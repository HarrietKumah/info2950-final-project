{
 "cells": [
  {
   "cell_type": "markdown",
   "id": "575e515b",
   "metadata": {},
   "source": [
    "Net IDs: hak68, "
   ]
  },
  {
   "cell_type": "markdown",
   "id": "8b14519f",
   "metadata": {},
   "source": [
    "# Research Questions\n"
   ]
  },
  {
   "cell_type": "markdown",
   "id": "59c718f8",
   "metadata": {},
   "source": [
    "Based on how long a patient stays in hospital and how much they spent, can we predict what factors went into their care?\n"
   ]
  },
  {
   "cell_type": "markdown",
   "id": "7dc53941",
   "metadata": {},
   "source": [
    "# Data collection and cleaning"
   ]
  },
  {
   "cell_type": "code",
   "execution_count": 21,
   "id": "363a439c",
   "metadata": {
    "tags": []
   },
   "outputs": [],
   "source": [
    "import numpy as np\n",
    "import pandas as pd\n",
    "import matplotlib.pyplot as plt\n",
    "import seaborn as sns\n",
    "import datetime\n",
    "from sklearn.linear_model import LinearRegression, LogisticRegression\n",
    "import duckdb\n"
   ]
  },
  {
   "cell_type": "code",
   "execution_count": 22,
   "id": "0e04e9c0",
   "metadata": {
    "tags": []
   },
   "outputs": [],
   "source": [
    "attributes_df = pd.read_csv(\"../info2950-final-project/Attribute_Description.csv\")\n",
    "medication_df = pd.read_csv(\"Medication_Data_Kaggle_V1.csv\")\n",
    "socio_eco_df = pd.read_csv(\"Socio_Economics_Data_Kaggle_V1.csv\")\n",
    "patient_data_training_df = pd.read_csv(\"Patient_Data_Training_Kaggle_V1.csv\")"
   ]
  },
  {
   "cell_type": "markdown",
   "id": "bada83f5",
   "metadata": {},
   "source": [
    "**Renaming column names to include no spaces for simpler selection**"
   ]
  },
  {
   "cell_type": "code",
   "execution_count": 23,
   "id": "61edf6aa",
   "metadata": {
    "tags": []
   },
   "outputs": [],
   "source": [
    "def rename_column(colname):\n",
    "  return colname.replace(' ', '_')\n",
    "\n",
    "medication_df = medication_df.rename(mapper = rename_column, axis = 1)\n",
    "socio_eco_df = socio_eco_df.rename(mapper = rename_column, axis = 1)\n",
    "patient_data_training_df = patient_data_training_df.rename(mapper = rename_column, axis = 1)\n",
    "\n",
    "\n"
   ]
  },
  {
   "cell_type": "markdown",
   "id": "0e4d2140",
   "metadata": {},
   "source": [
    "**Combining into one dataframe**"
   ]
  },
  {
   "cell_type": "code",
   "execution_count": null,
   "id": "78cb449e",
   "metadata": {},
   "outputs": [],
   "source": []
  },
  {
   "cell_type": "markdown",
   "id": "22866586",
   "metadata": {},
   "source": [
    "# Data description"
   ]
  },
  {
   "cell_type": "markdown",
   "id": "ee182259",
   "metadata": {},
   "source": [
    "**What are the observations (rows) and the attributes (columns)?**\n",
    "\n",
    "Each dataframe, medication_df, socio_eco_df, and patient_data_training_df are a part of the same larger set of data but split into different dataframes. This larger dataframe observed certain attributes for each diabetes patient, recognized by their unique patient id (each row is data for one patient). \n",
    "\n",
    "The patient_data_training_df has these attributes:\n",
    "- SID: patient Unique ID\n",
    "- Year: patient record year\n",
    "- Age: patient age\n",
    "- Race: patient race or ethnicity\n",
    "- Sex: patient's sex\n",
    "- State: state patient lives in\n",
    "- Zip Code: patient zip code\n",
    "- MSA: metropolitan statistical area code\n",
    "- Enrollment Type Categorized: \n",
    "- Enrollment Months\n",
    "- HCC Score\n",
    "- Avg. LOS\n",
    "- Diagnosis\n",
    "- #Total Claims\n",
    "- #Hospital OP\n",
    "- #All Physician OP\n",
    "- #Inpatient\n",
    "- #Short Term Stay Hospital\n",
    "- #Long Term Stay Hospital\n",
    "- #Rehabilitation Hospital\n",
    "- #Psychiatric Hospital\n",
    "- #Readmissions\n",
    "- #ER\n",
    "- #ER Admissions\n",
    "- #SNF\n",
    "- #Non Swing Bed SNF Claim\n",
    "- #Swing Bed SNF Claim\n",
    "- #Home Health\n",
    "- #Hospice\n",
    "- #Labs\n",
    "- #Part B Labs\n",
    "- #Imaging\n",
    "- #Part B Imaging\n",
    "- #Part B E&M\n",
    "- #Part B Drugs\n",
    "- #Part B Ambulance\n",
    "- #Dialysis\n",
    "- #Part-B Dialysis\n",
    "- #Rx Claims\n",
    "- #DME\n",
    "- #Miscellaneous\n",
    "- TotalCost_Y_Actual\n",
    "- TotalCost_Y_Expected\n",
    "\n",
    "The medication_df has these attributes:\n",
    "\n",
    "The socio_eco_df has these attributes: \n",
    "\n",
    "\n"
   ]
  },
  {
   "cell_type": "markdown",
   "id": "06b1d9f3",
   "metadata": {},
   "source": [
    "**Why was this dataset created?**\n",
    "\n",
    "This data set was created to analyze the factors that go into diabetes care, the demographics of diabetes patients, and how much it cost these patients to get care."
   ]
  },
  {
   "cell_type": "markdown",
   "id": "a617e555",
   "metadata": {},
   "source": [
    "**Who funded the creation of the dataset?**"
   ]
  },
  {
   "cell_type": "markdown",
   "id": "fc168466",
   "metadata": {},
   "source": [
    "**What processes might have influenced what data was observed and recorded and what was not?**\n"
   ]
  },
  {
   "cell_type": "markdown",
   "id": "e2c0dea4",
   "metadata": {},
   "source": [
    "**What preprocessing was done, and how did the data come to be in the form that you are using?**\n"
   ]
  },
  {
   "cell_type": "markdown",
   "id": "c3252c84",
   "metadata": {},
   "source": [
    "**If people are involved, were they aware of the data collection and if so, what purpose did they expect the data to be used for?**\n"
   ]
  },
  {
   "cell_type": "markdown",
   "id": "2294c542",
   "metadata": {},
   "source": [
    "**Where can your raw source data be found, if applicable?**"
   ]
  },
  {
   "cell_type": "markdown",
   "id": "127cfb00",
   "metadata": {},
   "source": [
    "# Data limitations"
   ]
  },
  {
   "cell_type": "markdown",
   "id": "0b5cae27",
   "metadata": {},
   "source": []
  },
  {
   "cell_type": "markdown",
   "id": "d8e085dd",
   "metadata": {},
   "source": []
  },
  {
   "cell_type": "markdown",
   "id": "8b74376e",
   "metadata": {},
   "source": [
    "# Exploratory data analysis"
   ]
  },
  {
   "cell_type": "markdown",
   "id": "c52fd053",
   "metadata": {},
   "source": [
    "**Which medications are popular amoung diabetes patients?**\n",
    "If we know the medication that is most used by diabetes patients, we can compare the attriibuts of patients who take the most popular medication to patients who take the least popular one such as how much they spent total on care, how long they stay in the hospital, how many times readmitted and see if there is any correlation. We can potentially use these correlations as an indicator of how effective a medication is in diabetes care. For example, if patients who take medication A spend twice as long in hospitals, that provides an interesting correlation to examine further. We, however, need to keep in mind that correlation does not equal causation so we might have to reexamine our definition of effectiveness.\n",
    "As a bonus, we can use information about this medication such as which company makes it and we could research how much that company makes from this medication. We could perhaps find some correlation between the popularity of the diabetes medication and the success of the company that creates it to see which companies make the most off of chronic diabetes. This could lead to a interesting research question about which chronic diseases aremost profitable but we will again need more data from that"
   ]
  },
  {
   "cell_type": "code",
   "execution_count": 24,
   "id": "e6b388ea",
   "metadata": {
    "tags": []
   },
   "outputs": [
    {
     "ename": "KeyError",
     "evalue": "\"['glyburide and metformin hydrochloride', 'metformin hydrochloride', 'sitagliptin and metformin hydrochloride'] not in index\"",
     "output_type": "error",
     "traceback": [
      "\u001b[0;31m---------------------------------------------------------------------------\u001b[0m",
      "\u001b[0;31mKeyError\u001b[0m                                  Traceback (most recent call last)",
      "Cell \u001b[0;32mIn[24], line 2\u001b[0m\n\u001b[1;32m      1\u001b[0m medication_df\u001b[38;5;241m.\u001b[39mhead()\n\u001b[0;32m----> 2\u001b[0m pop_med_df \u001b[38;5;241m=\u001b[39m np\u001b[38;5;241m.\u001b[39msum(medication_df[[\u001b[38;5;124m'\u001b[39m\u001b[38;5;124mdapagliflozin\u001b[39m\u001b[38;5;124m'\u001b[39m, \u001b[38;5;124m'\u001b[39m\u001b[38;5;124mexenatide\u001b[39m\u001b[38;5;124m'\u001b[39m, \u001b[38;5;124m'\u001b[39m\u001b[38;5;124mglimepiride\u001b[39m\u001b[38;5;124m'\u001b[39m, \u001b[38;5;124m'\u001b[39m\u001b[38;5;124mglyburide and metformin hydrochloride\u001b[39m\u001b[38;5;124m'\u001b[39m, \u001b[38;5;124m'\u001b[39m\u001b[38;5;124minsulin\u001b[39m\u001b[38;5;124m'\u001b[39m, \u001b[38;5;124m'\u001b[39m\u001b[38;5;124mmetformin hydrochloride\u001b[39m\u001b[38;5;124m'\u001b[39m, \u001b[38;5;124m'\u001b[39m\u001b[38;5;124mpioglitazone\u001b[39m\u001b[38;5;124m'\u001b[39m, \u001b[38;5;124m'\u001b[39m\u001b[38;5;124msitagliptin and metformin hydrochloride\u001b[39m\u001b[38;5;124m'\u001b[39m]], axis \u001b[38;5;241m=\u001b[39m \u001b[38;5;241m0\u001b[39m)\n\u001b[1;32m      5\u001b[0m plt\u001b[38;5;241m.\u001b[39mbar([\u001b[38;5;124m'\u001b[39m\u001b[38;5;124mdapagliflozin\u001b[39m\u001b[38;5;124m'\u001b[39m, \u001b[38;5;124m'\u001b[39m\u001b[38;5;124mexenatide\u001b[39m\u001b[38;5;124m'\u001b[39m, \u001b[38;5;124m'\u001b[39m\u001b[38;5;124mglimepiride\u001b[39m\u001b[38;5;124m'\u001b[39m,\\\n\u001b[1;32m      6\u001b[0m          \u001b[38;5;124m'\u001b[39m\u001b[38;5;124mglyburide and metformin hydrochloride\u001b[39m\u001b[38;5;124m'\u001b[39m, \u001b[38;5;124m'\u001b[39m\u001b[38;5;124minsulin\u001b[39m\u001b[38;5;124m'\u001b[39m,\\\n\u001b[1;32m      7\u001b[0m          \u001b[38;5;124m'\u001b[39m\u001b[38;5;124mmetformin hydrochloride\u001b[39m\u001b[38;5;124m'\u001b[39m, \u001b[38;5;124m'\u001b[39m\u001b[38;5;124mpioglitazone\u001b[39m\u001b[38;5;124m'\u001b[39m,\\\n\u001b[1;32m      8\u001b[0m          \u001b[38;5;124m'\u001b[39m\u001b[38;5;124msitagliptin and metformin hydrochloride\u001b[39m\u001b[38;5;124m'\u001b[39m],\\\n\u001b[1;32m      9\u001b[0m         pop_med_df,\\\n\u001b[1;32m     10\u001b[0m         color \u001b[38;5;241m=\u001b[39m [\u001b[38;5;124m'\u001b[39m\u001b[38;5;124mred\u001b[39m\u001b[38;5;124m'\u001b[39m, \u001b[38;5;124m'\u001b[39m\u001b[38;5;124mgreen\u001b[39m\u001b[38;5;124m'\u001b[39m, \u001b[38;5;124m'\u001b[39m\u001b[38;5;124mblue\u001b[39m\u001b[38;5;124m'\u001b[39m, \u001b[38;5;124m'\u001b[39m\u001b[38;5;124morange\u001b[39m\u001b[38;5;124m'\u001b[39m, \u001b[38;5;124m'\u001b[39m\u001b[38;5;124mpurple\u001b[39m\u001b[38;5;124m'\u001b[39m, \u001b[38;5;124m'\u001b[39m\u001b[38;5;124mmagenta\u001b[39m\u001b[38;5;124m'\u001b[39m, \u001b[38;5;124m'\u001b[39m\u001b[38;5;124mindigo\u001b[39m\u001b[38;5;124m'\u001b[39m, \u001b[38;5;124m'\u001b[39m\u001b[38;5;124myellow\u001b[39m\u001b[38;5;124m'\u001b[39m])\n\u001b[1;32m     11\u001b[0m plt\u001b[38;5;241m.\u001b[39mxticks(rotation \u001b[38;5;241m=\u001b[39m \u001b[38;5;241m90\u001b[39m)\n",
      "File \u001b[0;32m~/anaconda3/lib/python3.11/site-packages/pandas/core/frame.py:3813\u001b[0m, in \u001b[0;36mDataFrame.__getitem__\u001b[0;34m(self, key)\u001b[0m\n\u001b[1;32m   3811\u001b[0m     \u001b[38;5;28;01mif\u001b[39;00m is_iterator(key):\n\u001b[1;32m   3812\u001b[0m         key \u001b[38;5;241m=\u001b[39m \u001b[38;5;28mlist\u001b[39m(key)\n\u001b[0;32m-> 3813\u001b[0m     indexer \u001b[38;5;241m=\u001b[39m \u001b[38;5;28mself\u001b[39m\u001b[38;5;241m.\u001b[39mcolumns\u001b[38;5;241m.\u001b[39m_get_indexer_strict(key, \u001b[38;5;124m\"\u001b[39m\u001b[38;5;124mcolumns\u001b[39m\u001b[38;5;124m\"\u001b[39m)[\u001b[38;5;241m1\u001b[39m]\n\u001b[1;32m   3815\u001b[0m \u001b[38;5;66;03m# take() does not accept boolean indexers\u001b[39;00m\n\u001b[1;32m   3816\u001b[0m \u001b[38;5;28;01mif\u001b[39;00m \u001b[38;5;28mgetattr\u001b[39m(indexer, \u001b[38;5;124m\"\u001b[39m\u001b[38;5;124mdtype\u001b[39m\u001b[38;5;124m\"\u001b[39m, \u001b[38;5;28;01mNone\u001b[39;00m) \u001b[38;5;241m==\u001b[39m \u001b[38;5;28mbool\u001b[39m:\n",
      "File \u001b[0;32m~/anaconda3/lib/python3.11/site-packages/pandas/core/indexes/base.py:6070\u001b[0m, in \u001b[0;36mIndex._get_indexer_strict\u001b[0;34m(self, key, axis_name)\u001b[0m\n\u001b[1;32m   6067\u001b[0m \u001b[38;5;28;01melse\u001b[39;00m:\n\u001b[1;32m   6068\u001b[0m     keyarr, indexer, new_indexer \u001b[38;5;241m=\u001b[39m \u001b[38;5;28mself\u001b[39m\u001b[38;5;241m.\u001b[39m_reindex_non_unique(keyarr)\n\u001b[0;32m-> 6070\u001b[0m \u001b[38;5;28mself\u001b[39m\u001b[38;5;241m.\u001b[39m_raise_if_missing(keyarr, indexer, axis_name)\n\u001b[1;32m   6072\u001b[0m keyarr \u001b[38;5;241m=\u001b[39m \u001b[38;5;28mself\u001b[39m\u001b[38;5;241m.\u001b[39mtake(indexer)\n\u001b[1;32m   6073\u001b[0m \u001b[38;5;28;01mif\u001b[39;00m \u001b[38;5;28misinstance\u001b[39m(key, Index):\n\u001b[1;32m   6074\u001b[0m     \u001b[38;5;66;03m# GH 42790 - Preserve name from an Index\u001b[39;00m\n",
      "File \u001b[0;32m~/anaconda3/lib/python3.11/site-packages/pandas/core/indexes/base.py:6133\u001b[0m, in \u001b[0;36mIndex._raise_if_missing\u001b[0;34m(self, key, indexer, axis_name)\u001b[0m\n\u001b[1;32m   6130\u001b[0m     \u001b[38;5;28;01mraise\u001b[39;00m \u001b[38;5;167;01mKeyError\u001b[39;00m(\u001b[38;5;124mf\u001b[39m\u001b[38;5;124m\"\u001b[39m\u001b[38;5;124mNone of [\u001b[39m\u001b[38;5;132;01m{\u001b[39;00mkey\u001b[38;5;132;01m}\u001b[39;00m\u001b[38;5;124m] are in the [\u001b[39m\u001b[38;5;132;01m{\u001b[39;00maxis_name\u001b[38;5;132;01m}\u001b[39;00m\u001b[38;5;124m]\u001b[39m\u001b[38;5;124m\"\u001b[39m)\n\u001b[1;32m   6132\u001b[0m not_found \u001b[38;5;241m=\u001b[39m \u001b[38;5;28mlist\u001b[39m(ensure_index(key)[missing_mask\u001b[38;5;241m.\u001b[39mnonzero()[\u001b[38;5;241m0\u001b[39m]]\u001b[38;5;241m.\u001b[39munique())\n\u001b[0;32m-> 6133\u001b[0m \u001b[38;5;28;01mraise\u001b[39;00m \u001b[38;5;167;01mKeyError\u001b[39;00m(\u001b[38;5;124mf\u001b[39m\u001b[38;5;124m\"\u001b[39m\u001b[38;5;132;01m{\u001b[39;00mnot_found\u001b[38;5;132;01m}\u001b[39;00m\u001b[38;5;124m not in index\u001b[39m\u001b[38;5;124m\"\u001b[39m)\n",
      "\u001b[0;31mKeyError\u001b[0m: \"['glyburide and metformin hydrochloride', 'metformin hydrochloride', 'sitagliptin and metformin hydrochloride'] not in index\""
     ]
    }
   ],
   "source": [
    "medication_df.head()\n",
    "pop_med_df = np.sum(medication_df[['dapagliflozin', 'exenatide', 'glimepiride', 'glyburide and metformin hydrochloride', 'insulin', 'metformin hydrochloride', 'pioglitazone', 'sitagliptin and metformin hydrochloride']], axis = 0)\n",
    "\n",
    "\n",
    "plt.bar(['dapagliflozin', 'exenatide', 'glimepiride',\\\n",
    "         'glyburide and metformin hydrochloride', 'insulin',\\\n",
    "         'metformin hydrochloride', 'pioglitazone',\\\n",
    "         'sitagliptin and metformin hydrochloride'],\\\n",
    "        pop_med_df,\\\n",
    "        color = ['red', 'green', 'blue', 'orange', 'purple', 'magenta', 'indigo', 'yellow'])\n",
    "plt.xticks(rotation = 90)"
   ]
  },
  {
   "cell_type": "markdown",
   "id": "f974cb50",
   "metadata": {},
   "source": [
    "**Impact of quality of area on amount spent on diabetes care:** The Area Deprivation Index (ADI) is a measure of the quality of the area a person lives in in terms of cleanliness, infrastructure, income, education, and employment rates. High ADI means high deprivation in area. It would be helpful to know more about the background of the patients and to see if there is any correlation between the ADI and how much they pay for care. It could answer questions such as do poorer individuals pay more or less for care?"
   ]
  },
  {
   "cell_type": "code",
   "execution_count": null,
   "id": "5848e8fa",
   "metadata": {
    "tags": []
   },
   "outputs": [],
   "source": [
    "adi_vs_cost_df = duckdb.sql('SELECT socio_eco_df.ID, \\\n",
    "socio_eco_df.Avg_ADI, patient_data_training_df.TotalCost_Y_Actual AS Total_Cost \\\n",
    "FROM socio_eco_df \\\n",
    "INNER JOIN patient_data_training_df \\\n",
    "ON socio_eco_df.ID = patient_data_training_df.ID ').df()\n",
    "\n",
    "plt.plot(adi_vs_cost_df['Avg_ADI'],adi_vs_cost_df['Total_Cost'],'b.')\n",
    "plt.title('ADI vs Cost of Diabetes Care')\n",
    "plt.xlabel('Area Deprivation Index ( ADI )')\n",
    "plt.ylabel('Diabetes Care (\\$)')"
   ]
  },
  {
   "cell_type": "markdown",
   "id": "f6355263",
   "metadata": {},
   "source": [
    "This scatterplot is a bit difficult to analyze as there is not a clear correlation between ADI and money spent. There are some outliers near a deprivation index of 40 but this visualization is not enough to make predictions based off of so we might not use this comparison"
   ]
  },
  {
   "cell_type": "markdown",
   "id": "54437bc3",
   "metadata": {},
   "source": [
    "**Which age-group gets diabetes the most?**"
   ]
  },
  {
   "cell_type": "code",
   "execution_count": null,
   "id": "56d14b84",
   "metadata": {},
   "outputs": [],
   "source": [
    "#min age = 20\n",
    "#max age = 102\n",
    "\n",
    "sns.histplot(patient_data_training_df[['Age']], x = \"Age\").set(title = \"Diabetes by Age\")\n"
   ]
  },
  {
   "cell_type": "markdown",
   "id": "282bdf28-f464-43ba-a76a-31a1f6f74de0",
   "metadata": {},
   "source": [
    "**How Long on Average Do Diabetes Patients Stay In Hospital?**"
   ]
  },
  {
   "cell_type": "code",
   "execution_count": null,
   "id": "4aea0783-11c3-498d-9c00-e6026e2dcff0",
   "metadata": {
    "tags": []
   },
   "outputs": [],
   "source": [
    "p = duckdb.sql(\"SELECT AVG(TotalCost_Y_Actual) AS Avg_Cost, Race FROM patient_data_training_df GROUP BY Race\").df()\n",
    "\n",
    "plt.bar(p['Race'], p['Avg_Cost'])\n",
    "plt.xlabel('Race')\n",
    "plt.ylabel('Average Total Cost')\n",
    "plt.title('Patient Data by Race From 2017 - 2021')\n",
    "plt.xticks(rotation = 45)"
   ]
  },
  {
   "cell_type": "markdown",
   "id": "9d9fbeb4-2c84-43e5-ab3a-abb4da055538",
   "metadata": {},
   "source": [
    "*This bar graph was created to show a comparison of how much patients pay in total for their hospital stays and medication on average based on race. The Native American's average total cost significantly outnumbers the other races.*"
   ]
  },
  {
   "cell_type": "markdown",
   "id": "76d6125b-2aad-42f0-a96b-54f4c26aa792",
   "metadata": {},
   "source": [
    "**Total Cost of Patient Care Per Year**"
   ]
  },
  {
   "cell_type": "code",
   "execution_count": null,
   "id": "0c5422d3-c1e4-4837-8bc9-c7cdd4fc620a",
   "metadata": {
    "tags": []
   },
   "outputs": [],
   "source": [
    "plt.bar(patient_data_training_df['Race'], patient_data_training_df['Avg._LOS'])\n",
    "plt.xlabel('Race')\n",
    "plt.ylabel('Average Length of Stay')\n",
    "plt.title('Avg. LOS by Race')\n",
    "plt.xticks(rotation = 45)"
   ]
  },
  {
   "cell_type": "markdown",
   "id": "b7d41908-1c34-4e5f-b5e8-b98ff144e873",
   "metadata": {},
   "source": [
    "*This bar graph is a comparison of patients' average length of stay in the hospital based on race. This graph exhibits how White people have significantly longer stays in the hospital due to their conditions and 'other races' not defined spend the least amount of time in the hospitals due to their conditions.*"
   ]
  },
  {
   "cell_type": "markdown",
   "id": "97fa70ea",
   "metadata": {},
   "source": [
    "- A research question we are considering is measuring the effectiveness of certain attributes on diabetes care. To do this, we would have to define a measure of effectiveness such as cost or duration of stay, but we think this could lead to us concluding causations from our data. Is this something we should be weary of or how do you reccomend avoiding this?\n",
    "- Would a multivariate regression where different care attributes are inputs and the cost or duration of stay is an output be appropriate for our research question? \n",
    "- Can you reccomend places for us to find good unclean data?"
   ]
  }
 ],
 "metadata": {
  "kernelspec": {
   "display_name": "Python 3 (ipykernel)",
   "language": "python",
   "name": "python3"
  },
  "language_info": {
   "codemirror_mode": {
    "name": "ipython",
    "version": 3
   },
   "file_extension": ".py",
   "mimetype": "text/x-python",
   "name": "python",
   "nbconvert_exporter": "python",
   "pygments_lexer": "ipython3",
   "version": "3.11.4"
  }
 },
 "nbformat": 4,
 "nbformat_minor": 5
}

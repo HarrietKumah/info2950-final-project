{
 "cells": [
  {
   "cell_type": "code",
   "execution_count": 2,
   "id": "6e41999a",
   "metadata": {},
   "outputs": [],
   "source": [
    "import numpy as np\n",
    "import pandas as pd\n",
    "import matplotlib.pyplot as plt\n",
    "import seaborn as sns\n",
    "import datetime\n",
    "from sklearn.linear_model import LinearRegression, LogisticRegression\n",
    "import duckdb\n"
   ]
  },
  {
   "cell_type": "code",
   "execution_count": 4,
   "id": "6ccd6132",
   "metadata": {},
   "outputs": [],
   "source": [
    "attributes_df = pd.read_csv(\"../info2950-final-project/Attribute_Description.csv\")\n",
    "medication_df = pd.read_csv(\"Medication_Data_Kaggle_V1.csv\")\n",
    "socio_eco_df = pd.read_csv(\"Socio_Economics_Data_Kaggle_V1.csv\")\n",
    "patient_data_training_df = pd.read_csv(\"Patient_Data_Training_Kaggle_V1.csv\")"
   ]
  },
  {
   "cell_type": "markdown",
   "id": "8b14519f",
   "metadata": {},
   "source": [
    "# Research Questions\n"
   ]
  },
  {
   "cell_type": "code",
   "execution_count": null,
   "id": "67f8d590",
   "metadata": {},
   "outputs": [],
   "source": []
  },
  {
   "cell_type": "code",
   "execution_count": null,
   "id": "ff0da8f8",
   "metadata": {},
   "outputs": [],
   "source": []
  },
  {
   "cell_type": "markdown",
   "id": "7dc53941",
   "metadata": {},
   "source": [
    "# Data collection and cleaning"
   ]
  },
  {
   "cell_type": "code",
   "execution_count": null,
   "id": "363a439c",
   "metadata": {},
   "outputs": [],
   "source": []
  },
  {
   "cell_type": "code",
   "execution_count": null,
   "id": "0e04e9c0",
   "metadata": {},
   "outputs": [],
   "source": []
  },
  {
   "cell_type": "markdown",
   "id": "22866586",
   "metadata": {},
   "source": [
    "# Data description"
   ]
  },
  {
   "cell_type": "code",
   "execution_count": null,
   "id": "be3dfe76",
   "metadata": {},
   "outputs": [],
   "source": []
  },
  {
   "cell_type": "code",
   "execution_count": null,
   "id": "d69e4b44",
   "metadata": {},
   "outputs": [],
   "source": []
  },
  {
   "cell_type": "markdown",
   "id": "127cfb00",
   "metadata": {},
   "source": [
    "# Data limitations"
   ]
  },
  {
   "cell_type": "code",
   "execution_count": null,
   "id": "98b82019",
   "metadata": {},
   "outputs": [],
   "source": []
  },
  {
   "cell_type": "code",
   "execution_count": null,
   "id": "3155a4af",
   "metadata": {},
   "outputs": [],
   "source": []
  },
  {
   "cell_type": "markdown",
   "id": "8b74376e",
   "metadata": {},
   "source": [
    "# Exploratory data analysis"
   ]
  },
  {
   "cell_type": "code",
   "execution_count": null,
   "id": "1f39dedb",
   "metadata": {},
   "outputs": [],
   "source": []
  },
  {
   "cell_type": "code",
   "execution_count": null,
   "id": "e6b388ea",
   "metadata": {},
   "outputs": [],
   "source": []
  },
  {
   "cell_type": "code",
   "execution_count": null,
   "id": "2d2aa68f",
   "metadata": {},
   "outputs": [],
   "source": []
  },
  {
   "cell_type": "markdown",
   "id": "106cb98d",
   "metadata": {},
   "source": [
    "# Questions for reviewers"
   ]
  },
  {
   "cell_type": "code",
   "execution_count": null,
   "id": "04bbfaa5",
   "metadata": {},
   "outputs": [],
   "source": []
  }
 ],
 "metadata": {
  "kernelspec": {
   "display_name": "Python 3 (ipykernel)",
   "language": "python",
   "name": "python3"
  },
  "language_info": {
   "codemirror_mode": {
    "name": "ipython",
    "version": 3
   },
   "file_extension": ".py",
   "mimetype": "text/x-python",
   "name": "python",
   "nbconvert_exporter": "python",
   "pygments_lexer": "ipython3",
   "version": "3.9.17"
  }
 },
 "nbformat": 4,
 "nbformat_minor": 5
}

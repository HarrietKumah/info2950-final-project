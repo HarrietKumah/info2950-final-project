{
 "cells": [
  {
   "cell_type": "markdown",
   "id": "879f0379",
   "metadata": {},
   "source": [
    "**Data Cleaning/Preprocessing**"
   ]
  },
  {
   "cell_type": "code",
   "execution_count": null,
   "id": "6cc82065",
   "metadata": {},
   "outputs": [],
   "source": [
    "import numpy as np\n",
    "import pandas as pd\n",
    "import matplotlib.pyplot as plt\n",
    "import seaborn as sns\n",
    "import datetime\n",
    "from sklearn.linear_model import LinearRegression, LogisticRegression\n",
    "import duckdb"
   ]
  },
  {
   "cell_type": "markdown",
   "id": "079f0bc5",
   "metadata": {},
   "source": [
    "These four dataframes we are using are split from the same dataframe but we will later combine them to make querying simpler"
   ]
  },
  {
   "cell_type": "code",
   "execution_count": null,
   "id": "3a6c5e2a",
   "metadata": {},
   "outputs": [],
   "source": [
    "medication_df = pd.read_csv(\"Medication_Data_Kaggle_V1.csv\")\n",
    "socio_eco_df = pd.read_csv(\"Socio_Economics_Data_Kaggle_V1.csv\")\n",
    "patient_data_training_df = pd.read_csv(\"Patient_Data_Training_Kaggle_V1.csv\")\n",
    "patient_data_testing_df = pd.read_csv(\"Patient_Data_Testing_Features.csv\")"
   ]
  },
  {
   "cell_type": "markdown",
   "id": "1a664702",
   "metadata": {},
   "source": [
    "**Renaming column names to include no spaces for simpler selection**"
   ]
  },
  {
   "cell_type": "code",
   "execution_count": null,
   "id": "9fe808fa",
   "metadata": {},
   "outputs": [],
   "source": [
    "def rename_column(colname):\n",
    "  return colname.replace(' ', '_')\n",
    "\n",
    "medication_df = \\\n",
    "medication_df.rename(mapper = rename_column, axis = 1)\n",
    "\n",
    "socio_eco_df = \\\n",
    "socio_eco_df.rename(mapper = rename_column, axis = 1)\n",
    "\n",
    "patient_data_training_df = \\\n",
    "patient_data_training_df.rename(mapper = rename_column, axis = 1)\n",
    "\n",
    "patient_data_testing_df = \\\n",
    "patient_data_testing_df.rename(mapper = rename_column, axis = 1)\n",
    "\n"
   ]
  },
  {
   "cell_type": "markdown",
   "id": "8db53471",
   "metadata": {},
   "source": [
    "**Combining patient_data dataframes:** The dataset we are using has a training set and a test set that had been split so we will recombine these dataframes and have one patient_data_df"
   ]
  },
  {
   "cell_type": "code",
   "execution_count": null,
   "id": "8f625034",
   "metadata": {},
   "outputs": [],
   "source": [
    "patient_data_df = pd.concat\\\n",
    "([patient_data_training_df, patient_data_testing_df], \\\n",
    " axis = 0, ignore_index = True)\n",
    "\n",
    "patient_data_df"
   ]
  },
  {
   "cell_type": "markdown",
   "id": "bd8e5b87",
   "metadata": {},
   "source": [
    "The patient_data_df dataframe has one more row than the other two dataframes medication_df and socio_eco_df and after checking for duplicates, we see that there is a duplicated ID. After removing this duplicated ID, patient_data_df now has 20411 rows, same as the other dataframes. These dataframes are now ready to combine in the next step. Note: We could have combined even with uneven row lengths but it was important that the duplicated ID was removed because each value in ID should be unique, representing a unique patient."
   ]
  },
  {
   "cell_type": "code",
   "execution_count": null,
   "id": "33b99d76",
   "metadata": {},
   "outputs": [],
   "source": [
    "print(np.shape(patient_data_df)) #old shape of patient_data_df\n",
    "len(patient_data_df['ID'].unique())\n",
    "\n",
    "patient_data_df = patient_data_df.drop_duplicates(subset = 'ID')\n",
    "\n",
    "print(np.shape(patient_data_df)) #new shape with duplicated row removed"
   ]
  },
  {
   "cell_type": "markdown",
   "id": "46b025d3",
   "metadata": {},
   "source": [
    "1. Combining Dataframes\n",
    "\n",
    "We use a left join to join the three dataframe together. After the dataframes are joined together, there are some duplicate columns as each of the dataframes have the same 'ID' and 'Year' columns so we removed duplicate columns. This new combined dataframe is called diabetes_df"
   ]
  },
  {
   "cell_type": "code",
   "execution_count": null,
   "id": "9b05dcc4",
   "metadata": {},
   "outputs": [],
   "source": [
    "#diabetes_df = duckdb.sql(\"SELECT * FROM patient_data_df \\\n",
    "#LEFT JOIN medication_df \\\n",
    "#ON patient_data_df.ID = medication_df.ID \\\n",
    "#LEFT JOIN socio_eco_df \\\n",
    "#ON patient_data_df.ID = socio_eco_df.ID\").df()\n",
    "\n",
    "#diabetes_df = diabetes_df.drop(['ID_2', 'ID_3', 'Year_2', \n",
    "                                'Year_3'], \n",
    "                               axis = 1)\n",
    "#diabetes_df.to_csv('diabetes.csv')"
   ]
  }
 ],
 "metadata": {
  "kernelspec": {
   "display_name": "Python 3 (ipykernel)",
   "language": "python",
   "name": "python3"
  },
  "language_info": {
   "codemirror_mode": {
    "name": "ipython",
    "version": 3
   },
   "file_extension": ".py",
   "mimetype": "text/x-python",
   "name": "python",
   "nbconvert_exporter": "python",
   "pygments_lexer": "ipython3",
   "version": "3.11.4"
  }
 },
 "nbformat": 4,
 "nbformat_minor": 5
}

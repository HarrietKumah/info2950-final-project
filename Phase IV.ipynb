{
 "cells": [
  {
   "cell_type": "markdown",
   "id": "2a7938b1",
   "metadata": {},
   "source": [
    "Net IDs: hak68, ota3, gnp24"
   ]
  },
  {
   "cell_type": "markdown",
   "id": "87955216",
   "metadata": {},
   "source": [
    "# Introduction"
   ]
  },
  {
   "cell_type": "markdown",
   "id": "ed1e68d9",
   "metadata": {},
   "source": [
    "Diabetes is one of the most common chronic diseases in America. We sought to analyze how "
   ]
  },
  {
   "cell_type": "markdown",
   "id": "ba72f33a",
   "metadata": {},
   "source": [
    "**Data sources**"
   ]
  },
  {
   "cell_type": "markdown",
   "id": "1c4ad126",
   "metadata": {},
   "source": [
    "Original Dataframes"
   ]
  },
  {
   "cell_type": "code",
   "execution_count": 14,
   "id": "c9028a40",
   "metadata": {},
   "outputs": [],
   "source": [
    "import numpy as np\n",
    "import pandas as pd\n",
    "import matplotlib.pyplot as plt\n",
    "import seaborn as sns\n",
    "\n",
    "from sklearn.linear_model import LinearRegression, LogisticRegression\n",
    "from sklearn.model_selection import train_test_split\n",
    "from sklearn.metrics import mean_squared_error, mean_absolute_error, mean_absolute_percentage_error, accuracy_score, precision_score, recall_score, f1_score, precision_recall_curve\n",
    "from sklearn import preprocessing\n",
    "from scipy import stats\n",
    "\n",
    "import statsmodels.api as sm\n",
    "\n",
    "import duckdb\n",
    "import warnings \n",
    "warnings.filterwarnings('ignore')\n",
    "\n",
    "import plotly.express as px"
   ]
  },
  {
   "cell_type": "code",
   "execution_count": 15,
   "id": "5ca3c4e0",
   "metadata": {},
   "outputs": [],
   "source": [
    "medication_df = pd.read_csv(\"Medication_Data_Kaggle_V1.csv\")\n",
    "socio_eco_df = pd.read_csv(\"Socio_Economics_Data_Kaggle_V1.csv\")\n",
    "patient_data_training_df = pd.read_csv(\"Patient_Data_Training_Kaggle_V1.csv\")\n",
    "patient_data_testing_df = pd.read_csv(\"Patient_Data_Testing_Features.csv\")"
   ]
  },
  {
   "cell_type": "markdown",
   "id": "7b24f4b4",
   "metadata": {},
   "source": [
    "Analysis-ready Dataframe"
   ]
  },
  {
   "cell_type": "code",
   "execution_count": 16,
   "id": "6e300ffb",
   "metadata": {},
   "outputs": [],
   "source": [
    "diabetes_df = pd.read_csv(\"diabetes_1.csv\")\n"
   ]
  },
  {
   "cell_type": "markdown",
   "id": "de3df0c7",
   "metadata": {},
   "source": [
    "Data cleaning"
   ]
  },
  {
   "cell_type": "markdown",
   "id": "77c7d985",
   "metadata": {},
   "source": []
  },
  {
   "cell_type": "markdown",
   "id": "13759491",
   "metadata": {},
   "source": [
    "**Research Question**\n",
    "\n",
    "Can we predict how much a patient pays for diabetes care considering the treatment recieved and other demographic factors that go into their care?"
   ]
  },
  {
   "cell_type": "markdown",
   "id": "b23ab9e1",
   "metadata": {},
   "source": []
  },
  {
   "cell_type": "markdown",
   "id": "3cf214b3",
   "metadata": {},
   "source": [
    "**Summary of Findings**"
   ]
  },
  {
   "cell_type": "markdown",
   "id": "4f8f95f8",
   "metadata": {},
   "source": []
  },
  {
   "cell_type": "markdown",
   "id": "95647eb5",
   "metadata": {},
   "source": []
  },
  {
   "cell_type": "markdown",
   "id": "818e03a9",
   "metadata": {},
   "source": [
    "# Data description"
   ]
  },
  {
   "cell_type": "markdown",
   "id": "a0238a80",
   "metadata": {},
   "source": [
    "**What are the observations (rows) and the attributes (columns)?**\n",
    "\n",
    "The dataframe, diabetes_df, which is our analysis ready data, observes certain attributes for each diabetes patient, recognized by their unique patient id (each row is data for one patient). \n",
    "\n",
    "diabetes_df has attributes about general demographics of the patient, the many factors that might have went into a patient's diabetes care, and the cost of care for each patient:\n",
    "[image-5.png](attachment:image-5.png)\n",
    "\n",
    "The other set of attributes in diabetes_df is types of medication taken by the patient. The values in each row are binary, either a 0 or 1 indicating that, no, the patient did not take this medication, or yes, they did:\n",
    "![image-4.png](attachment:image-4.png)\n",
    "\n",
    "There are also attributes concerning a patient's socio-economic background: \n",
    "![image-3.png](attachment:image-3.png)  \n",
    "\n"
   ]
  },
  {
   "cell_type": "markdown",
   "id": "ca23c09e",
   "metadata": {},
   "source": [
    "**Why was this dataset created?**\n",
    "\n",
    "This data set was created to analyze the factors that go into diabetes care, the demographics of diabetes patients, and how much it cost these patients to get care. This data could be useful for hospitals to help them improve their healthcare management or chronic disease management programs. "
   ]
  },
  {
   "cell_type": "markdown",
   "id": "10a6ce05",
   "metadata": {},
   "source": [
    "**Who funded the creation of the dataset?**\n",
    "\n",
    "We do not know who funded the creation of this dataset, but we know that it was provided by Softec, an AI company as part of a data science competition. "
   ]
  },
  {
   "cell_type": "markdown",
   "id": "db2af113",
   "metadata": {},
   "source": [
    "**What processes might have influenced what data was observed and recorded and what was not?**\n",
    "\n",
    "Patient consent & participation might have influenced or affected how much specifc data was collected. Certain patients might not want to disclose certain information. Also, the data was collected from adults only, most of them being elderly, so it is likely that sources for children were not available. The year that the patient information was recorded on the dataset goes as far back as 2017 which may or may not be enough time to make predictions about the rise and fall of diabetes healthcare so the observation of long-term trends are affected. Also, we do not know the extent of the resources that the data collectors had. It could be that they paid certain hospitals for data; in that case the prices of datasets they were willing to pay for, affects what is recorded. The data collectors could have also targeted certain areas or demographics to get data from which also affects what is observed and what is not.\n"
   ]
  },
  {
   "cell_type": "markdown",
   "id": "e6992d85",
   "metadata": {},
   "source": [
    "**What preprocessing was done, and how did the data come to be in the form that you are using?**\n",
    "\n",
    "The data we are using to build our visualizations is the result of combining four seperate, but connected, datasets into a larger one called diabetes_df. These four dataframes were connected by their ID column. So in creating this dataframe, we made sure that the uniquenss of patient ID's and the amount of them, were preserved. Also, we wanted to make the columns of the dataframe easier to query, and not have to repeat the same querying syntax for special column names, so we replaced all spaces with _. "
   ]
  },
  {
   "cell_type": "markdown",
   "id": "df6ce998",
   "metadata": {},
   "source": [
    "**If people are involved, were they aware of the data collection and if so, what purpose did they expect the data to be used for?**\n",
    "\n",
    "We do not know how aware these patients were at the collection of the data. The attributes of the dataframe do not seem like data that could be collected with surveys or interviews, but rather data that has to be from some type of mass medical record. Patients are not often aware of what hospitals do with their data so it is a real possibility that the people who the dataset is based on, have no idea that they are the subject."
   ]
  },
  {
   "cell_type": "markdown",
   "id": "a931a283",
   "metadata": {},
   "source": [
    "**Where can your raw source data be found, if applicable?**\n",
    "\n",
    "This question is not applicable to us, as we do not know where Softec got the dataset from. "
   ]
  },
  {
   "cell_type": "markdown",
   "id": "26856095",
   "metadata": {},
   "source": [
    "# Data limitations"
   ]
  },
  {
   "cell_type": "markdown",
   "id": "65f79a17",
   "metadata": {},
   "source": [
    "One limitation of our data is that there is a total cost of patient care for that year, but the indivudal factors that went into the care are not priced. So we do not explicity know which factors such as medication taken, length of stay, treatments given etc. affected the total price the most. We will have to find out these prices through predictions from our model intead of observed occurences in real life. When trying to predict these prices, our model might have oddities or outliers that might make it difficult for us to confidently make predictions for these values.\n",
    "\n",
    "Another limitation of our data is regarding the lack of information we have about what some of the columns are trying to portray. For example, there are columns SVI1, SVI3, SVI4, and SVI that measure percentile rankings for various socioeconomic and ethnic status. However, some of these values are negative numbers that also have absolute value greater than 1 and all of the positive numbers are less than 1. So, do negative percentiles have any significance? Are the percentile values out of 1 or out of 100? Or is the data in these columns simply meaningless? These are the questions we have to consider in our analysis and if we decide to not use those columns at all, then we lose information about a patient's socioeconomic status when creating our predictive model."
   ]
  },
  {
   "cell_type": "markdown",
   "id": "7223934c",
   "metadata": {},
   "source": [
    "# Preregistration statements"
   ]
  },
  {
   "cell_type": "markdown",
   "id": "adbbeb40",
   "metadata": {},
   "source": [
    "Accross states in the USA, there are differences in regions with some being more or less expensive than others and different regions having different ways of life. We wanted to see how this extends to the cost of diabetes so our first preregistered hypothesis concerns the variation in cost of diabetes based on region and a further analysis to determine the significance of our results."
   ]
  },
  {
   "cell_type": "markdown",
   "id": "5a3c0e93",
   "metadata": {},
   "source": [
    "**Hypothesis:** Patients who live in the south spend more money on the total cost of treatment.\n",
    "\n",
    "**Analysis:** We will create a new column indicating which region a patient lives in. Then, we will run a linear regression where we input region as a dummy variable, and output cost of treatment. The North region dummy variable will be our reference variable so that we can test that the coefficient for the South region is greater. "
   ]
  },
  {
   "cell_type": "markdown",
   "id": "fafcc693",
   "metadata": {},
   "source": [
    "The Area Deprivation Index(ADI) allows for a ranking of neighborhoods by socioeconomic statuses and advantages. A higher ADI indicates high area deprivation. We wanted to explore the effect of ADI on how much a patient pays for diabetes care and do further analysis to determine the significance of our results."
   ]
  },
  {
   "cell_type": "markdown",
   "id": "3426fa0d",
   "metadata": {},
   "source": [
    "**Hypothesis 2:** Patients with a high area deprivation index will spend less on diabetes care.\n",
    "\n",
    "**Analysis:** Run a multivariable regression, with all else variables equal, and see the effect of area deprivation index on total cost of care for patient."
   ]
  },
  {
   "cell_type": "markdown",
   "id": "b53757ac",
   "metadata": {},
   "source": []
  },
  {
   "cell_type": "markdown",
   "id": "417e7453",
   "metadata": {},
   "source": [
    "# Data Analysis and Intepretation"
   ]
  },
  {
   "cell_type": "markdown",
   "id": "4d33930a",
   "metadata": {},
   "source": [
    "Race and Cost -- Jyna"
   ]
  },
  {
   "cell_type": "code",
   "execution_count": 17,
   "id": "f0144069",
   "metadata": {},
   "outputs": [
    {
     "data": {
      "image/png": "[encoded data removed]",
      "text/plain": [
       "<Figure size 640x480 with 1 Axes>"
      ]
     },
     "metadata": {},
     "output_type": "display_data"
    }
   ],
   "source": [
    "sns.boxplot(x='Race', y='TotalCost_Y_Actual', data=diabetes_df,)\n",
    "plt.xlabel('Race')\n",
    "plt.ylabel('Cost')\n",
    "plt.title('Box Plot of Cost by Race')\n",
    "plt.show()"
   ]
  },
  {
   "cell_type": "markdown",
   "id": "1297a147",
   "metadata": {},
   "source": [
    "Region and cost -- Harriet"
   ]
  },
  {
   "cell_type": "code",
   "execution_count": 18,
   "id": "f2d32fd9",
   "metadata": {},
   "outputs": [
    {
     "ename": "NameError",
     "evalue": "name 'diabetes_with_dummies' is not defined",
     "output_type": "error",
     "traceback": [
      "\u001b[0;31m---------------------------------------------------------------------------\u001b[0m",
      "\u001b[0;31mNameError\u001b[0m                                 Traceback (most recent call last)",
      "Cell \u001b[0;32mIn[18], line 1\u001b[0m\n\u001b[0;32m----> 1\u001b[0m fig \u001b[38;5;241m=\u001b[39m px\u001b[38;5;241m.\u001b[39mchoropleth(diabetes_with_dummies,locations\u001b[38;5;241m=\u001b[39m\u001b[38;5;124m'\u001b[39m\u001b[38;5;124mState\u001b[39m\u001b[38;5;124m'\u001b[39m, locationmode \u001b[38;5;241m=\u001b[39m \u001b[38;5;124m'\u001b[39m\u001b[38;5;124mUSA-states\u001b[39m\u001b[38;5;124m'\u001b[39m,scope\u001b[38;5;241m=\u001b[39m \u001b[38;5;124m'\u001b[39m\u001b[38;5;124musa\u001b[39m\u001b[38;5;124m'\u001b[39m, \n\u001b[1;32m      2\u001b[0m                     color\u001b[38;5;241m=\u001b[39m\u001b[38;5;124m'\u001b[39m\u001b[38;5;124mTotalCost_Y_Actual\u001b[39m\u001b[38;5;124m'\u001b[39m, hover_name\u001b[38;5;241m=\u001b[39m\u001b[38;5;124m'\u001b[39m\u001b[38;5;124mState\u001b[39m\u001b[38;5;124m'\u001b[39m)\n\u001b[1;32m      4\u001b[0m fig\u001b[38;5;241m.\u001b[39mshow()\n",
      "\u001b[0;31mNameError\u001b[0m: name 'diabetes_with_dummies' is not defined"
     ]
    }
   ],
   "source": [
    "fig = px.choropleth(diabetes_with_dummies,locations='State', locationmode = 'USA-states',scope= 'usa', \n",
    "                    color='TotalCost_Y_Actual', hover_name='State')\n",
    "\n",
    "fig.show()"
   ]
  },
  {
   "cell_type": "markdown",
   "id": "ba01a214",
   "metadata": {},
   "source": [
    "LOS and cost -- Wunmi"
   ]
  },
  {
   "cell_type": "code",
   "execution_count": null,
   "id": "b28160ea",
   "metadata": {},
   "outputs": [],
   "source": []
  },
  {
   "cell_type": "markdown",
   "id": "94227336",
   "metadata": {},
   "source": [
    "Popular medicines pie chart -- Jyna"
   ]
  },
  {
   "cell_type": "code",
   "execution_count": 19,
   "id": "c194f1aa",
   "metadata": {},
   "outputs": [
    {
     "data": {
      "image/png": "[encoded data removed]",
      "text/plain": [
       "<Figure size 800x800 with 1 Axes>"
      ]
     },
     "metadata": {},
     "output_type": "display_data"
    }
   ],
   "source": [
    "medicine_columns = medication_df.columns[2:] \n",
    "\n",
    "medicine_usage = medication_df[medicine_columns].sum()\n",
    "colors = plt.cm.viridis(range(len(medicine_usage)))\n",
    "\n",
    "plt.figure(figsize=(8, 8))\n",
    "plt.pie(medicine_usage, labels=medicine_usage.index, autopct='%1.1f%%', startangle=140)\n",
    "\n",
    "\n",
    "plt.title('Overall Medicine Usage')\n",
    "\n",
    "plt.legend(medicine_usage.index, loc='upper left', bbox_to_anchor=(1, 0.5))\n",
    "\n",
    "plt.show()"
   ]
  },
  {
   "cell_type": "markdown",
   "id": "966a5420",
   "metadata": {},
   "source": [
    "Race and LOS"
   ]
  },
  {
   "cell_type": "code",
   "execution_count": null,
   "id": "1798d2b3",
   "metadata": {},
   "outputs": [],
   "source": []
  },
  {
   "cell_type": "markdown",
   "id": "bbf6b819",
   "metadata": {},
   "source": [
    "Region and LOS"
   ]
  },
  {
   "cell_type": "code",
   "execution_count": null,
   "id": "2ad9efbf",
   "metadata": {},
   "outputs": [],
   "source": []
  },
  {
   "cell_type": "markdown",
   "id": "70768e2b",
   "metadata": {},
   "source": [
    "ADI and Cost"
   ]
  },
  {
   "cell_type": "code",
   "execution_count": null,
   "id": "853865e1",
   "metadata": {},
   "outputs": [],
   "source": []
  },
  {
   "cell_type": "markdown",
   "id": "55f36484",
   "metadata": {},
   "source": [
    "## Predicting Cost of Diabetes based on Treatment and Demographics\n",
    "\n",
    "We will train a multivariate least squares model to predict the cost of diabetes based on selected diabetes treatments and other patient demographics"
   ]
  },
  {
   "cell_type": "markdown",
   "id": "af9c5763",
   "metadata": {},
   "source": [
    "**Preparing diabetes_df to have a Region attribute and only numeric data types**\n"
   ]
  },
  {
   "cell_type": "code",
   "execution_count": null,
   "id": "06d778f7",
   "metadata": {},
   "outputs": [],
   "source": [
    "state_to_region = {'Northeast': ['New York', 'Massachusetts', 'Pennsylvania', 'Maryland'],\n",
    "                  'South': ['Florida', 'Texas', 'Tennessee', 'Kentucky', 'North Carolina', 'Virginia', 'Alabama', 'Louisiana', 'Georgia', 'Mississippi', 'Missouri'],\n",
    "                  'Midwest': ['Illinois', 'Ohio', 'Michigan', 'Wisconsin'], 'West': ['Colorado', 'Washington', 'California', 'Nevada', 'Arizona']}\n",
    "\n",
    "diabetes_df['Region'] = pd.Series()\n",
    "\n",
    "for i in range(len(diabetes_df['State'])):\n",
    "    if diabetes_df['State'][i] in state_to_region['Northeast']:\n",
    "        diabetes_df['Region'][i] = 'Northeast'\n",
    "    elif diabetes_df['State'][i] in state_to_region['South']:\n",
    "        diabetes_df['Region'][i] = 'South'\n",
    "    elif diabetes_df['State'][i] in state_to_region['Midwest']:\n",
    "        diabetes_df['Region'][i] = 'Midwest'\n",
    "    elif diabetes_df['State'][i] in state_to_region['West']:\n",
    "        diabetes_df['Region'][i] = 'West' \n",
    "    else:\n",
    "        diabetes_df['Region'][i] = 'Unknown'\n",
    "\n",
    "print(diabetes_df['Region'])\n",
    "print(diabetes_df['Region'].unique())\n",
    "\n"
   ]
  },
  {
   "cell_type": "code",
   "execution_count": null,
   "id": "d5b64cd4",
   "metadata": {},
   "outputs": [],
   "source": [
    "region_dummies = pd.get_dummies(diabetes_df['Region'], dtype = int)\n",
    "race_dummies = pd.get_dummies(diabetes_df['Race'], dtype = int)\n",
    "\n",
    "gender_dict = {'Male': 0, 'Female': 1}\n",
    "diabetes_df['Sex'] = diabetes_df['Sex'].map(gender_dict)\n",
    "\n",
    "er = diabetes_df['#_ER'] + diabetes_df['#_ER_Admissions']\n",
    "er\n",
    "diabetes_df['ER_Admissions'] = er\n",
    "\n",
    "print(region_dummies.head())\n",
    "print(race_dummies.head())\n",
    "print(diabetes_df['Sex'].head())\n",
    "print(diabetes_df['ER_Admissions'].head())"
   ]
  },
  {
   "cell_type": "code",
   "execution_count": null,
   "id": "66a2d58a",
   "metadata": {},
   "outputs": [],
   "source": [
    "diabetes_with_dummies = pd.concat([diabetes_df, race_dummies, region_dummies], axis = 1)\n",
    "\n",
    "diabetes_with_dummies = diabetes_with_dummies.rename(columns = {'UnKnown':'Unknown_race', 'Other Race' : 'Other_race', \n",
    "                                                              'North American Native': 'North_American_Native', 'Unknown': \n",
    "                                                              'Unknown_region'})\n",
    "\n"
   ]
  },
  {
   "cell_type": "markdown",
   "id": "e05c4697",
   "metadata": {},
   "source": [
    "diabetes_with_dummies is the dataframe we will now refer to for our model."
   ]
  },
  {
   "cell_type": "code",
   "execution_count": null,
   "id": "3cf836a9",
   "metadata": {},
   "outputs": [],
   "source": [
    "diabetes_with_dummies.head()"
   ]
  },
  {
   "cell_type": "markdown",
   "id": "87e6524f",
   "metadata": {},
   "source": [
    "**Log-log transformation on diabetes_with_dummies before splitting and training model**"
   ]
  },
  {
   "cell_type": "code",
   "execution_count": null,
   "id": "5cb5f71d",
   "metadata": {},
   "outputs": [],
   "source": [
    "log_cost = np.log(diabetes_with_dummies['TotalCost_Y_Actual']) #performed log transofrm on output (cost)\n",
    "diabetes_with_dummies['log_cost'] = log_cost \n",
    "\n",
    "diabetes_with_dummies = diabetes_with_dummies[np.isfinite(diabetes_with_dummies['log_cost']) == True] #removed infinte values from set\n",
    "\n",
    "log_columns = ['Age', 'Diagnosis', '#_Total_Claims', '#_Rx_Claims', 'Avg_ADI']\n",
    "diabetes_with_dummies[['log_Age','log_Diagnosis', 'log_#_Total_Claims',\n",
    "                       'log_#_Rx_Claims','log_Avg_ADI']] = np.log(diabetes_with_dummies[log_columns])\n",
    "diabetes_with_dummies.iloc[:, 74:].head()"
   ]
  },
  {
   "cell_type": "markdown",
   "id": "a75065c4",
   "metadata": {},
   "source": [
    "**Creating training and testing dataframes from diabetes_with_dummies** "
   ]
  },
  {
   "cell_type": "code",
   "execution_count": null,
   "id": "accf7bb9",
   "metadata": {},
   "outputs": [],
   "source": [
    "diabetes_train, diabetes_test = train_test_split(diabetes_with_dummies, test_size = 0.2, train_size = 0.8, random_state = 2950)\n",
    "\n",
    "print(np.shape(diabetes_with_dummies))\n",
    "print(np.shape(diabetes_train))\n",
    "print(np.shape(diabetes_test))\n",
    "\n",
    "diabetes_train = diabetes_train[diabetes_train['TotalCost_Y_Actual'].isnull() == False]"
   ]
  },
  {
   "cell_type": "markdown",
   "id": "97d6979d",
   "metadata": {},
   "source": [
    "**Fitting our model**"
   ]
  },
  {
   "cell_type": "code",
   "execution_count": null,
   "id": "aea9ec27",
   "metadata": {},
   "outputs": [],
   "source": [
    "diabetes_train = diabetes_train.dropna() #drop na from training dataframe\n",
    "\n",
    "input_columns = ['log_Age', 'Sex',\n",
    "       'Avg._LOS', 'log_Diagnosis', 'log_#_Total_Claims', '#_Rehabilitation_Hospital',\n",
    "        '#_Readmissions', '#_Labs', '#_Imaging', '#_Dialysis', \n",
    "         'log_#_Rx_Claims', '#_DME', 'dapagliflozin',\n",
    "       'exenatide', 'glimepiride', 'glyburide_and_metformin_hydrochloride',\n",
    "       'insulin', 'metformin_hydrochloride', 'pioglitazone',\n",
    "       'sitagliptin_and_metformin_hydrochloride', 'log_Avg_ADI', \n",
    "       'ER_Admissions', 'Asian', 'Black', 'Hispanic',\n",
    "       'Other_race', 'Unknown_race', 'White', 'Midwest', 'South',\n",
    "       'Unknown_region', 'West']\n",
    "\n",
    "X = diabetes_train[input_columns]\n",
    "y = diabetes_train[['log_cost']]\n",
    "\n",
    "model = LinearRegression().fit(X,y)\n",
    "\n",
    "#displaying coefficients\n",
    "coefs = model.coef_[0] \n",
    "loop = zip(input_columns, coefs)\n",
    "d = dict(loop)\n",
    "for i in d:\n",
    "    print(f'{i}: {round(d[i],2)}')\n",
    "\n",
    "#displaying intercept\n",
    "interc = round(model.intercept_[0],2)\n",
    "print(f'intercept: {interc}')\n"
   ]
  },
  {
   "cell_type": "code",
   "execution_count": null,
   "id": "73ac6daa",
   "metadata": {},
   "outputs": [],
   "source": [
    "np.shape(diabetes_train)"
   ]
  },
  {
   "cell_type": "code",
   "execution_count": null,
   "id": "abac5400",
   "metadata": {},
   "outputs": [],
   "source": []
  },
  {
   "cell_type": "code",
   "execution_count": null,
   "id": "cf1e87cf",
   "metadata": {},
   "outputs": [],
   "source": [
    "\n",
    "diabetes_test = diabetes_test.dropna() #drop na from testing dataframe\n",
    "\n",
    "train_predictions = model.predict(diabetes_train[input_columns])\n",
    "test_predictions = model.predict(diabetes_test[input_columns])\n",
    "\n",
    "\n",
    "print(len(train_predictions))\n",
    "print(len(test_predictions))\n",
    "\n"
   ]
  },
  {
   "cell_type": "code",
   "execution_count": null,
   "id": "b1fe4fb0",
   "metadata": {},
   "outputs": [],
   "source": []
  },
  {
   "cell_type": "code",
   "execution_count": null,
   "id": "7f383462",
   "metadata": {},
   "outputs": [],
   "source": [
    "residuals = diabetes_train['log_cost'] - train_predictions[:, 0]\n",
    "\n",
    "plt.scatter(train_predictions[:, 0], residuals)\n",
    "plt.xlabel(\"Predicted Cost\")\n",
    "plt.ylabel(\"Residuals\")\n",
    "\n"
   ]
  },
  {
   "cell_type": "code",
   "execution_count": null,
   "id": "2f791d5f",
   "metadata": {},
   "outputs": [],
   "source": []
  },
  {
   "cell_type": "markdown",
   "id": "9d490550",
   "metadata": {},
   "source": [
    "**Evaluation strength of our model**\n"
   ]
  },
  {
   "cell_type": "code",
   "execution_count": null,
   "id": "bfcc4569",
   "metadata": {},
   "outputs": [],
   "source": [
    "train_rmse = np.sqrt(np.mean((train_predictions[:, 0] - diabetes_train['log_cost'])**2))\n",
    "test_rmse = np.sqrt(np.mean((test_predictions[:, 0]-diabetes_test['log_cost'])**2))\n",
    "# Print train RMSE\n",
    "print(f\"Train RMSE: {train_rmse:.2f}\")\n",
    "# Print test RMSE\n",
    "print(f\"Test RMSE: {test_rmse:.2f}\")"
   ]
  },
  {
   "cell_type": "code",
   "execution_count": null,
   "id": "6fdf80ad",
   "metadata": {},
   "outputs": [],
   "source": [
    "train_mae= np.mean(np.abs(train_predictions[:, 0] - diabetes_train['log_cost']))\n",
    "# Print train MAE\n",
    "print(f'Train MAE: {train_mae:.2f}')\n",
    "# Print test MAE\n",
    "test_mae = np.mean(np.abs(test_predictions[:, 0] - diabetes_test['log_cost']))\n",
    "print(f'Test MAE: {test_mae:.2f}')"
   ]
  },
  {
   "cell_type": "markdown",
   "id": "866364bf",
   "metadata": {
    "tags": []
   },
   "source": [
    "What does the MAE and RMSE tell us?\n",
    "whqjifehkewmrjeherebhrjnek"
   ]
  },
  {
   "cell_type": "code",
   "execution_count": null,
   "id": "290222a1",
   "metadata": {},
   "outputs": [],
   "source": []
  },
  {
   "cell_type": "markdown",
   "id": "a2f4d1b2",
   "metadata": {},
   "source": [
    "**Interpreting significance of our results**"
   ]
  },
  {
   "cell_type": "code",
   "execution_count": null,
   "id": "8df9aff5",
   "metadata": {
    "tags": []
   },
   "outputs": [],
   "source": [
    "#df = diabetes_with_dummies[['Northeast', 'South', 'Midwest', 'West', 'Unknown']]\n",
    "#diabetes_with_dummies.dropna(subset=['TotalCost_Y_Actual'], inplace=True)\n",
    "#diabetes_with_dummies.dropna(subset=['Northeast', 'South', 'Midwest', 'West'], inplace=True)\n",
    "\n",
    "\n",
    "\n",
    "X = diabetes_train[['South', 'Midwest', 'West']] #unknown region\n",
    "X = sm.add_constant(X)\n",
    "# y = diabetes_train[['TotalCost_Y_Actual']].set_index(y.index)\n",
    "y = diabetes_train['TotalCost_Y_Actual']\n",
    "\n",
    "model = sm.OLS(y, X)\n",
    "results = model.fit()\n",
    "\n",
    "print(results.summary())"
   ]
  },
  {
   "cell_type": "markdown",
   "id": "c59c294e",
   "metadata": {},
   "source": []
  },
  {
   "cell_type": "code",
   "execution_count": null,
   "id": "380d3891-bea4-4e4e-a401-0cffaf024e44",
   "metadata": {
    "tags": []
   },
   "outputs": [],
   "source": [
    "\n",
    "X = diabetes_train[[ 'Asian', 'Black', 'Hispanic',\n",
    "       'Other_race',  'White']] # took out unknown_race and native american\n",
    "X = sm.add_constant(X)\n",
    "\n",
    "y = diabetes_train['TotalCost_Y_Actual']\n",
    "\n",
    "model = sm.OLS(y, X)\n",
    "results = model.fit()\n",
    "\n",
    "print(results.summary())"
   ]
  },
  {
   "cell_type": "markdown",
   "id": "267e916d",
   "metadata": {},
   "source": []
  },
  {
   "cell_type": "code",
   "execution_count": null,
   "id": "67f773c1-b87b-4503-ac7e-f5e668bed481",
   "metadata": {},
   "outputs": [],
   "source": [
    "\n",
    "X = diabetes_train[['Avg_ADI']]\n",
    "    \n",
    "X = sm.add_constant(X)\n",
    "\n",
    "y = diabetes_train['TotalCost_Y_Actual']\n",
    "\n",
    "model = sm.OLS(y, X)\n",
    "results = model.fit()\n",
    "\n",
    "print(results.summary())"
   ]
  },
  {
   "cell_type": "markdown",
   "id": "d2d34942",
   "metadata": {},
   "source": []
  }
 ],
 "metadata": {
  "kernelspec": {
   "display_name": "Python 3 (ipykernel)",
   "language": "python",
   "name": "python3"
  },
  "language_info": {
   "codemirror_mode": {
    "name": "ipython",
    "version": 3
   },
   "file_extension": ".py",
   "mimetype": "text/x-python",
   "name": "python",
   "nbconvert_exporter": "python",
   "pygments_lexer": "ipython3",
   "version": "3.11.4"
  }
 },
 "nbformat": 4,
 "nbformat_minor": 5
}

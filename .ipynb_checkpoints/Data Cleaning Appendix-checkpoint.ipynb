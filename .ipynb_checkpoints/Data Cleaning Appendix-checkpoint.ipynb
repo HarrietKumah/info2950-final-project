{
 "cells": [
  {
   "cell_type": "markdown",
   "id": "879f0379",
   "metadata": {},
   "source": [
    "**Data Cleaning/Preprocessing**"
   ]
  },
  {
   "cell_type": "markdown",
   "id": "46b025d3",
   "metadata": {},
   "source": [
    "1. Combining Dataframes\n",
    "\n",
    "We use a left join to join the three dataframe together. After the dataframes are joined together, there are some duplicate columns as each of the dataframes have the same 'ID' and 'Year' columns so we removed duplicate columns. This new combined dataframe is called diabetes_df"
   ]
  },
  {
   "cell_type": "code",
   "execution_count": null,
   "id": "9b05dcc4",
   "metadata": {},
   "outputs": [],
   "source": [
    "#diabetes_df = duckdb.sql(\"SELECT * FROM patient_data_df \\\n",
    "#LEFT JOIN medication_df \\\n",
    "#ON patient_data_df.ID = medication_df.ID \\\n",
    "#LEFT JOIN socio_eco_df \\\n",
    "#ON patient_data_df.ID = socio_eco_df.ID\").df()\n",
    "\n",
    "#diabetes_df = diabetes_df.drop(['ID_2', 'ID_3', 'Year_2', \n",
    "                                'Year_3'], \n",
    "                               axis = 1)\n",
    "#diabetes_df.to_csv('diabetes.csv')"
   ]
  }
 ],
 "metadata": {
  "kernelspec": {
   "display_name": "Python 3 (ipykernel)",
   "language": "python",
   "name": "python3"
  },
  "language_info": {
   "codemirror_mode": {
    "name": "ipython",
    "version": 3
   },
   "file_extension": ".py",
   "mimetype": "text/x-python",
   "name": "python",
   "nbconvert_exporter": "python",
   "pygments_lexer": "ipython3",
   "version": "3.11.4"
  }
 },
 "nbformat": 4,
 "nbformat_minor": 5
}

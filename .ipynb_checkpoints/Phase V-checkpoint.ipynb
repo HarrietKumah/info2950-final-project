{
 "cells": [
  {
   "cell_type": "markdown",
   "id": "2a7938b1",
   "metadata": {},
   "source": [
    "Net IDs: hak68, ota3, gnp24"
   ]
  },
  {
   "cell_type": "markdown",
   "id": "9e1be06d-7a5b-427c-9a94-70c411877e56",
   "metadata": {},
   "source": [
    "# Cost of Diabetes Care in the USA"
   ]
  },
  {
   "cell_type": "markdown",
   "id": "87955216",
   "metadata": {},
   "source": [
    "## Introduction"
   ]
  },
  {
   "cell_type": "markdown",
   "id": "ed1e68d9",
   "metadata": {},
   "source": [
    "Diabetes is a chronic disease that affect millions of people in the United States. Currently, there is no cure for diabetes but rather patients manage their symptoms with medications to lower blood glucose levels, medical devices to monitor their glucose levels, and by maintaining a healthy diet and lifestyle. Also, there are many other health problems that could arise in those with diabetes such as high blood pressure, high cholestrol, kidney disease, vision problems, and an increased risk for infections. Recognizing that the life-long management of diabetes and its many complications could result in high costs for many with the disease, we sought to analyze which parts of diabetes management actually produce the highest cost for patients and to use this to predict which types of patients will be high cost diabetes patients and why. Cost, unfortunately, becomes a point of stress and contention between people and hospitals/insurance companies especially in those with chronic illnesses. There are many beneifts to knowing what makes diabetes expensive such as: hospitals could use this knowledge to create more efficient diabetes management programs (ones with reduced cost yet effective results) and more transparency between patients and the cost of their treatments could decrease the frequency of medical debt in the United States.\n"
   ]
  },
  {
   "cell_type": "markdown",
   "id": "ba72f33a",
   "metadata": {},
   "source": [
    "**Data sources**\n",
    "\n",
    "We analyzed a data set of about 20,000 diabetes patients with information about their diabetes treatment such as medication type usage, number of hospital visits, number of labs, length of stay, patient demographic information, and average cost for the patient that year."
   ]
  },
  {
   "cell_type": "code",
   "execution_count": 91,
   "id": "c9028a40",
   "metadata": {},
   "outputs": [],
   "source": [
    "import numpy as np\n",
    "import pandas as pd\n",
    "import matplotlib.pyplot as plt\n",
    "import seaborn as sns\n",
    "\n",
    "from sklearn.linear_model import LinearRegression, LogisticRegression\n",
    "from sklearn.model_selection import train_test_split\n",
    "from sklearn.metrics import mean_squared_error, mean_absolute_error, mean_absolute_percentage_error, accuracy_score, precision_score, recall_score, f1_score, precision_recall_curve\n",
    "from sklearn import preprocessing\n",
    "from scipy import stats\n",
    "\n",
    "import statsmodels.api as sm\n",
    "\n",
    "import duckdb\n",
    "import warnings \n",
    "warnings.filterwarnings('ignore')\n",
    "\n",
    "import plotly.express as px"
   ]
  },
  {
   "cell_type": "markdown",
   "id": "1c4ad126",
   "metadata": {},
   "source": [
    "Original Dataframes"
   ]
  },
  {
   "cell_type": "code",
   "execution_count": 92,
   "id": "5ca3c4e0",
   "metadata": {},
   "outputs": [],
   "source": [
    "medication_df = pd.read_csv(\"Medication_Data_Kaggle_V1.csv\")\n",
    "socio_eco_df = pd.read_csv(\"Socio_Economics_Data_Kaggle_V1.csv\")\n",
    "patient_data_training_df = pd.read_csv(\"Patient_Data_Training_Kaggle_V1.csv\")\n",
    "patient_data_testing_df = pd.read_csv(\"Patient_Data_Testing_Features.csv\")"
   ]
  },
  {
   "cell_type": "markdown",
   "id": "7b24f4b4",
   "metadata": {},
   "source": [
    "Analysis-ready Dataframe"
   ]
  },
  {
   "cell_type": "code",
   "execution_count": 93,
   "id": "6e300ffb",
   "metadata": {},
   "outputs": [
    {
     "data": {
      "text/html": [
       "<div>\n",
       "<style scoped>\n",
       "    .dataframe tbody tr th:only-of-type {\n",
       "        vertical-align: middle;\n",
       "    }\n",
       "\n",
       "    .dataframe tbody tr th {\n",
       "        vertical-align: top;\n",
       "    }\n",
       "\n",
       "    .dataframe thead th {\n",
       "        text-align: right;\n",
       "    }\n",
       "</style>\n",
       "<table border=\"1\" class=\"dataframe\">\n",
       "  <thead>\n",
       "    <tr style=\"text-align: right;\">\n",
       "      <th></th>\n",
       "      <th>ID</th>\n",
       "      <th>Year</th>\n",
       "      <th>Age</th>\n",
       "      <th>Race</th>\n",
       "      <th>Sex</th>\n",
       "      <th>State</th>\n",
       "      <th>Zip_Code</th>\n",
       "      <th>MSA</th>\n",
       "      <th>Enrollment_Type_Categorized</th>\n",
       "      <th>Enrollment_Months</th>\n",
       "      <th>...</th>\n",
       "      <th>sitagliptin_and_metformin_hydrochloride</th>\n",
       "      <th>Avg_ADI</th>\n",
       "      <th>Max_ADI</th>\n",
       "      <th>Min_ADI</th>\n",
       "      <th>SVI1</th>\n",
       "      <th>SVI3</th>\n",
       "      <th>SVI4</th>\n",
       "      <th>SVI</th>\n",
       "      <th>MDI</th>\n",
       "      <th>Region</th>\n",
       "    </tr>\n",
       "  </thead>\n",
       "  <tbody>\n",
       "    <tr>\n",
       "      <th>0</th>\n",
       "      <td>68802021</td>\n",
       "      <td>2021</td>\n",
       "      <td>68</td>\n",
       "      <td>White</td>\n",
       "      <td>Male</td>\n",
       "      <td>Michigan</td>\n",
       "      <td>48176</td>\n",
       "      <td>11460</td>\n",
       "      <td>10</td>\n",
       "      <td>12.0</td>\n",
       "      <td>...</td>\n",
       "      <td>0</td>\n",
       "      <td>30.157895</td>\n",
       "      <td>67.0</td>\n",
       "      <td>8.0</td>\n",
       "      <td>-27.707059</td>\n",
       "      <td>-18.227551</td>\n",
       "      <td>-27.590337</td>\n",
       "      <td>-27.727856</td>\n",
       "      <td>14.16</td>\n",
       "      <td>NaN</td>\n",
       "    </tr>\n",
       "    <tr>\n",
       "      <th>1</th>\n",
       "      <td>3422021</td>\n",
       "      <td>2021</td>\n",
       "      <td>60</td>\n",
       "      <td>Black</td>\n",
       "      <td>Male</td>\n",
       "      <td>Michigan</td>\n",
       "      <td>49224</td>\n",
       "      <td>12980</td>\n",
       "      <td>20</td>\n",
       "      <td>12.0</td>\n",
       "      <td>...</td>\n",
       "      <td>0</td>\n",
       "      <td>80.200000</td>\n",
       "      <td>100.0</td>\n",
       "      <td>52.0</td>\n",
       "      <td>-21.266317</td>\n",
       "      <td>0.272289</td>\n",
       "      <td>-21.271530</td>\n",
       "      <td>-21.282509</td>\n",
       "      <td>15.39</td>\n",
       "      <td>NaN</td>\n",
       "    </tr>\n",
       "    <tr>\n",
       "      <th>2</th>\n",
       "      <td>7892020</td>\n",
       "      <td>2020</td>\n",
       "      <td>46</td>\n",
       "      <td>White</td>\n",
       "      <td>Male</td>\n",
       "      <td>Michigan</td>\n",
       "      <td>49016</td>\n",
       "      <td>12980</td>\n",
       "      <td>20</td>\n",
       "      <td>12.0</td>\n",
       "      <td>...</td>\n",
       "      <td>0</td>\n",
       "      <td>82.545455</td>\n",
       "      <td>97.0</td>\n",
       "      <td>63.0</td>\n",
       "      <td>0.529493</td>\n",
       "      <td>0.376685</td>\n",
       "      <td>0.616187</td>\n",
       "      <td>0.555240</td>\n",
       "      <td>15.39</td>\n",
       "      <td>NaN</td>\n",
       "    </tr>\n",
       "  </tbody>\n",
       "</table>\n",
       "<p>3 rows × 61 columns</p>\n",
       "</div>"
      ],
      "text/plain": [
       "         ID  Year  Age   Race   Sex     State Zip_Code    MSA  \\\n",
       "0  68802021  2021   68  White  Male  Michigan    48176  11460   \n",
       "1   3422021  2021   60  Black  Male  Michigan    49224  12980   \n",
       "2   7892020  2020   46  White  Male  Michigan    49016  12980   \n",
       "\n",
       "   Enrollment_Type_Categorized  Enrollment_Months  ...  \\\n",
       "0                           10               12.0  ...   \n",
       "1                           20               12.0  ...   \n",
       "2                           20               12.0  ...   \n",
       "\n",
       "   sitagliptin_and_metformin_hydrochloride    Avg_ADI  Max_ADI  Min_ADI  \\\n",
       "0                                        0  30.157895     67.0      8.0   \n",
       "1                                        0  80.200000    100.0     52.0   \n",
       "2                                        0  82.545455     97.0     63.0   \n",
       "\n",
       "        SVI1       SVI3       SVI4        SVI    MDI  Region  \n",
       "0 -27.707059 -18.227551 -27.590337 -27.727856  14.16     NaN  \n",
       "1 -21.266317   0.272289 -21.271530 -21.282509  15.39     NaN  \n",
       "2   0.529493   0.376685   0.616187   0.555240  15.39     NaN  \n",
       "\n",
       "[3 rows x 61 columns]"
      ]
     },
     "execution_count": 93,
     "metadata": {},
     "output_type": "execute_result"
    }
   ],
   "source": [
    "diabetes_df = pd.read_csv(\"diabetes_1.csv\")\n",
    "diabetes_df.head(3)"
   ]
  },
  {
   "cell_type": "markdown",
   "id": "13759491",
   "metadata": {},
   "source": [
    "**Research Question**\n",
    "\n",
    "Can we predict how much a patient pays for diabetes management considering the patient demographics and types of treatments recieved?"
   ]
  },
  {
   "cell_type": "markdown",
   "id": "3cf214b3",
   "metadata": {},
   "source": [
    "**Summary of Findings**\n",
    "\n",
    "CANGE THIS!!!\n",
    "\n",
    "Yes we are able to predict cost based on demographics and certain factors in care because we were able to create a multivariate least squares regression model with random residuals. However, we found that some variates were more significant than others including region and race. "
   ]
  },
  {
   "cell_type": "markdown",
   "id": "818e03a9",
   "metadata": {},
   "source": [
    "## Data description"
   ]
  },
  {
   "attachments": {
    "image-2.png": {
     "image/png": "[encoded data removed]"
    },
    "image-3.png": {
     "image/png": "[encoded data removed]"
    },
    "image-4.png": {
     "image/png": "[encoded data removed]"
    }
   },
   "cell_type": "markdown",
   "id": "a0238a80",
   "metadata": {},
   "source": [
    "**What are the observations (rows) and the attributes (columns)?**\n",
    "\n",
    "The dataframe, diabetes_df, which is our analysis ready data, observes certain attributes for each diabetes patient, recognized by their unique patient id (each row is data for one patient). \n",
    "\n",
    "diabetes_df is a combination of three dataframes each with a different theme of atributes:\n",
    "\n",
    "attributes about general demographics of the patient, the many factors that might have went into a patient's diabetes care, and the cost of care for each patient:\n",
    "\n",
    "![image-2.png](attachment:image-2.png)\n",
    "\n",
    "types of medication taken by the patient. The values in each row are binary, either a 0 or 1 indicating that, no, the patient did not take this medication, or yes, they did:\n",
    "\n",
    "![image-3.png](attachment:image-3.png)\n",
    "\n",
    "attributes concerning a patient's socio-economic background: \n",
    "\n",
    "![image-4.png](attachment:image-4.png)  \n",
    "\n"
   ]
  },
  {
   "cell_type": "markdown",
   "id": "ca23c09e",
   "metadata": {},
   "source": [
    "**Why was this dataset created?**\n",
    "\n",
    "This data set was created to analyze the factors that go into diabetes care, the demographics of diabetes patients, and how much it cost these patients to get care. This data could be useful for hospitals to help them improve their healthcare management or chronic disease management programs. "
   ]
  },
  {
   "cell_type": "markdown",
   "id": "10a6ce05",
   "metadata": {},
   "source": [
    "**Who funded the creation of the dataset?**\n",
    "\n",
    "We do not know who funded the creation of this dataset, but we know that it was provided by Softec, an AI company as part of a data science competition. "
   ]
  },
  {
   "cell_type": "markdown",
   "id": "db2af113",
   "metadata": {},
   "source": [
    "**What processes might have influenced what data was observed and recorded and what was not?**\n",
    "\n",
    "Patient consent & participation might have influenced or affected how much specifc data was collected. Certain patients might not want to disclose certain information. Also, the data was collected from adults only, most of them being elderly, so it is likely that sources for children were not available. The year that the patient information was recorded on the dataset goes as far back as 2017 which may or may not be enough time to make predictions about the rise and fall of diabetes healthcare so the observation of long-term trends are affected. Also, we do not know the extent of the resources that the data collectors had. It could be that they paid certain hospitals for data; in that case the prices of datasets they were willing to pay for, affects what is recorded. The data collectors could have also targeted certain areas or demographics to get data from which also affects what is observed and what is not.\n"
   ]
  },
  {
   "cell_type": "markdown",
   "id": "e6992d85",
   "metadata": {},
   "source": [
    "**What preprocessing was done, and how did the data come to be in the form that you are using?**\n",
    "\n",
    "The data we are using to build our visualizations is the result of combining four seperate, but connected, datasets into a larger one called diabetes_df. These four dataframes were connected by their ID column. So in creating this dataframe, we made sure that the uniquenss of patient ID's and the amount of them, were preserved. Also, we wanted to make the columns of the dataframe easier to query, and not have to repeat the same querying syntax for special column names, so we replaced all spaces with _. "
   ]
  },
  {
   "cell_type": "markdown",
   "id": "df6ce998",
   "metadata": {},
   "source": [
    "**If people are involved, were they aware of the data collection and if so, what purpose did they expect the data to be used for?**\n",
    "\n",
    "We do not know how aware these patients were at the collection of the data. The attributes of the dataframe do not seem like data that could be collected with surveys or interviews, but rather data that has to be from some type of mass medical record. Patients are not often aware of what hospitals do with their data so it is a real possibility that the people who the dataset is based on, have no idea that they are the subject."
   ]
  },
  {
   "cell_type": "markdown",
   "id": "a931a283",
   "metadata": {},
   "source": [
    "**Where can your raw source data be found, if applicable?**\n",
    "\n",
    "This question is not applicable to us, as we do not know where Softec got the dataset from. "
   ]
  },
  {
   "cell_type": "markdown",
   "id": "26856095",
   "metadata": {},
   "source": [
    "# Data limitations"
   ]
  },
  {
   "cell_type": "markdown",
   "id": "65f79a17",
   "metadata": {},
   "source": [
    "One limitation of our data is that there is a total cost of patient care for that year, but the indivudal factors that went into the care are not priced. So we do not explicity know which factors such as medication taken, length of stay, treatments given etc. affected the total price the most. We will have to find out these prices through predictions from our model intead of observed occurences in real life. When trying to predict these prices, our model might have oddities or outliers that might make it difficult for us to confidently make predictions for these values.\n",
    "\n",
    "Another limitation of our data is regarding the lack of information we have about what some of the columns are trying to portray. For example, there are columns SVI1, SVI3, SVI4, and SVI that measure percentile rankings for various socioeconomic and ethnic status. However, some of these values are negative numbers that also have absolute value greater than 1 and all of the positive numbers are less than 1. So, do negative percentiles have any significance? Are the percentile values out of 1 or out of 100? Or is the data in these columns simply meaningless? These are the questions we have to consider in our analysis and if we decide to not use those columns at all, then we lose information about a patient's socioeconomic status when creating our predictive model."
   ]
  },
  {
   "cell_type": "markdown",
   "id": "7223934c",
   "metadata": {},
   "source": [
    "# Preregistration statements"
   ]
  },
  {
   "cell_type": "markdown",
   "id": "adbbeb40",
   "metadata": {},
   "source": [
    "Accross states in the USA, there are differences in regions with some being more or less expensive than others and different regions having different ways of life. We wanted to see how this extends to the cost of diabetes so our first preregistered hypothesis concerns the variation in cost of diabetes based on region and a further analysis to determine the significance of our results."
   ]
  },
  {
   "cell_type": "markdown",
   "id": "5a3c0e93",
   "metadata": {},
   "source": [
    "**Null Hypothesis 1:** There is no significant difference in total cost of treatment for patients in the South and other regions.\n",
    "\n",
    "**Alternative Hypothesis 1:** Patients who live in the South spend more money on the total cost of treatment.\n",
    "\n",
    "**Analysis:** We will create a new column indicating which region a patient lives in. Then, we will run an Ordinary Least Squares regression where we input regions as a dummy variables and output cost of treatment. The Northeast region dummy variable will be our reference variable so that we can test that the coefficient for the South region is greater. "
   ]
  },
  {
   "cell_type": "markdown",
   "id": "fafcc693",
   "metadata": {},
   "source": [
    "The Area Deprivation Index (ADI) allows for a ranking of neighborhoods by socioeconomic statuses and advantages. A high ADI indicates high area deprivation. We wanted to explore the effect of ADI on how much a patient pays for diabetes care and do further analysis to determine the significance of our results."
   ]
  },
  {
   "cell_type": "markdown",
   "id": "3426fa0d",
   "metadata": {},
   "source": [
    "**Null Hypothesis 2:** The ADI of a patient has no signficant effect on how much they will spend on diabetes care.\n",
    "\n",
    "**Alternative Hypothesis 2:** Patients with a high ADI index will spend less on diabetes care.\n",
    "\n",
    "**Analysis:** Run a multivariable regression, with all else variables equal, and see the effect of area deprivation index on total cost of care for patient. Also do an OLS regression."
   ]
  },
  {
   "cell_type": "markdown",
   "id": "417e7453",
   "metadata": {},
   "source": [
    "## Data Analysis and Intepretation"
   ]
  },
  {
   "cell_type": "markdown",
   "id": "5f7d25f2-f92a-41e1-9174-c1d862c56a74",
   "metadata": {},
   "source": [
    "### Interesting Data Visualizations"
   ]
  },
  {
   "cell_type": "markdown",
   "id": "de048c45-7564-43ab-a090-d4d1f660cbea",
   "metadata": {},
   "source": [
    "**States by Average Cost of Diabetes**\n",
    "\n",
    "The 'States by Average Cost of Diabetes' map below uses the 'State' and 'TotalCost_Y_Actual' columns from diabetes_df to provide a color mapping of states and the average amount patients who live there pay for diabetes. The average cost ranges from about 1000 to 52,000 dollars($). The map shows that Mississippi, New York, and Nevada have higher cost of diabetes care but there are states near them such as Louisiana, Pennsylvania, and California, respectively, which have much lower cost of diabetes from this dataset. So these large differences in cost for states within the same region might affect the results of our analysis of region and cost later on."
   ]
  },
  {
   "cell_type": "code",
   "execution_count": 94,
   "id": "c44b7daf-248c-4240-96de-a1bacde362c2",
   "metadata": {},
   "outputs": [
    {
     "data": {
      "application/vnd.plotly.v1+json": {
       "config": {
        "plotlyServerURL": "https://plot.ly"
       },
       "data": [
        {
         "coloraxis": "coloraxis",
         "geo": "geo",
         "hovertemplate": "State_Abbreviation=%{location}<br>Avg_Cost=%{z}<extra></extra>",
         "locationmode": "USA-states",
         "locations": [
          "MI",
          "NY",
          "FL",
          "IL",
          "OH",
          "TX",
          "CO",
          "NC",
          "CA",
          "MO",
          "NV",
          "WI",
          "PA",
          "AZ",
          "VA",
          "MD",
          "AL",
          "MS",
          "TN",
          "KY",
          "LA"
         ],
         "name": "",
         "type": "choropleth",
         "z": [
          11793.215290841164,
          48559,
          10930.992000000002,
          7822.585,
          11254.81325503356,
          28056.077692307692,
          6597.889999999999,
          11028.18,
          1012.3399999999999,
          9388.07,
          38525.884999999995,
          16886.525,
          3906.0414285714287,
          13216.725,
          2975.41,
          8902.28,
          9362.3825,
          52867.1,
          9043.32,
          13777.54,
          4901.9
         ]
        }
       ],
       "layout": {
        "coloraxis": {
         "colorbar": {
          "title": {
           "text": "Avg_Cost"
          }
         },
         "colorscale": [
          [
           0,
           "#0d0887"
          ],
          [
           0.1111111111111111,
           "#46039f"
          ],
          [
           0.2222222222222222,
           "#7201a8"
          ],
          [
           0.3333333333333333,
           "#9c179e"
          ],
          [
           0.4444444444444444,
           "#bd3786"
          ],
          [
           0.5555555555555556,
           "#d8576b"
          ],
          [
           0.6666666666666666,
           "#ed7953"
          ],
          [
           0.7777777777777778,
           "#fb9f3a"
          ],
          [
           0.8888888888888888,
           "#fdca26"
          ],
          [
           1,
           "#f0f921"
          ]
         ]
        },
        "geo": {
         "center": {},
         "domain": {
          "x": [
           0,
           1
          ],
          "y": [
           0,
           1
          ]
         },
         "scope": "usa"
        },
        "legend": {
         "tracegroupgap": 0
        },
        "template": {
         "data": {
          "bar": [
           {
            "error_x": {
             "color": "#2a3f5f"
            },
            "error_y": {
             "color": "#2a3f5f"
            },
            "marker": {
             "line": {
              "color": "#E5ECF6",
              "width": 0.5
             },
             "pattern": {
              "fillmode": "overlay",
              "size": 10,
              "solidity": 0.2
             }
            },
            "type": "bar"
           }
          ],
          "barpolar": [
           {
            "marker": {
             "line": {
              "color": "#E5ECF6",
              "width": 0.5
             },
             "pattern": {
              "fillmode": "overlay",
              "size": 10,
              "solidity": 0.2
             }
            },
            "type": "barpolar"
           }
          ],
          "carpet": [
           {
            "aaxis": {
             "endlinecolor": "#2a3f5f",
             "gridcolor": "white",
             "linecolor": "white",
             "minorgridcolor": "white",
             "startlinecolor": "#2a3f5f"
            },
            "baxis": {
             "endlinecolor": "#2a3f5f",
             "gridcolor": "white",
             "linecolor": "white",
             "minorgridcolor": "white",
             "startlinecolor": "#2a3f5f"
            },
            "type": "carpet"
           }
          ],
          "choropleth": [
           {
            "colorbar": {
             "outlinewidth": 0,
             "ticks": ""
            },
            "type": "choropleth"
           }
          ],
          "contour": [
           {
            "colorbar": {
             "outlinewidth": 0,
             "ticks": ""
            },
            "colorscale": [
             [
              0,
              "#0d0887"
             ],
             [
              0.1111111111111111,
              "#46039f"
             ],
             [
              0.2222222222222222,
              "#7201a8"
             ],
             [
              0.3333333333333333,
              "#9c179e"
             ],
             [
              0.4444444444444444,
              "#bd3786"
             ],
             [
              0.5555555555555556,
              "#d8576b"
             ],
             [
              0.6666666666666666,
              "#ed7953"
             ],
             [
              0.7777777777777778,
              "#fb9f3a"
             ],
             [
              0.8888888888888888,
              "#fdca26"
             ],
             [
              1,
              "#f0f921"
             ]
            ],
            "type": "contour"
           }
          ],
          "contourcarpet": [
           {
            "colorbar": {
             "outlinewidth": 0,
             "ticks": ""
            },
            "type": "contourcarpet"
           }
          ],
          "heatmap": [
           {
            "colorbar": {
             "outlinewidth": 0,
             "ticks": ""
            },
            "colorscale": [
             [
              0,
              "#0d0887"
             ],
             [
              0.1111111111111111,
              "#46039f"
             ],
             [
              0.2222222222222222,
              "#7201a8"
             ],
             [
              0.3333333333333333,
              "#9c179e"
             ],
             [
              0.4444444444444444,
              "#bd3786"
             ],
             [
              0.5555555555555556,
              "#d8576b"
             ],
             [
              0.6666666666666666,
              "#ed7953"
             ],
             [
              0.7777777777777778,
              "#fb9f3a"
             ],
             [
              0.8888888888888888,
              "#fdca26"
             ],
             [
              1,
              "#f0f921"
             ]
            ],
            "type": "heatmap"
           }
          ],
          "heatmapgl": [
           {
            "colorbar": {
             "outlinewidth": 0,
             "ticks": ""
            },
            "colorscale": [
             [
              0,
              "#0d0887"
             ],
             [
              0.1111111111111111,
              "#46039f"
             ],
             [
              0.2222222222222222,
              "#7201a8"
             ],
             [
              0.3333333333333333,
              "#9c179e"
             ],
             [
              0.4444444444444444,
              "#bd3786"
             ],
             [
              0.5555555555555556,
              "#d8576b"
             ],
             [
              0.6666666666666666,
              "#ed7953"
             ],
             [
              0.7777777777777778,
              "#fb9f3a"
             ],
             [
              0.8888888888888888,
              "#fdca26"
             ],
             [
              1,
              "#f0f921"
             ]
            ],
            "type": "heatmapgl"
           }
          ],
          "histogram": [
           {
            "marker": {
             "pattern": {
              "fillmode": "overlay",
              "size": 10,
              "solidity": 0.2
             }
            },
            "type": "histogram"
           }
          ],
          "histogram2d": [
           {
            "colorbar": {
             "outlinewidth": 0,
             "ticks": ""
            },
            "colorscale": [
             [
              0,
              "#0d0887"
             ],
             [
              0.1111111111111111,
              "#46039f"
             ],
             [
              0.2222222222222222,
              "#7201a8"
             ],
             [
              0.3333333333333333,
              "#9c179e"
             ],
             [
              0.4444444444444444,
              "#bd3786"
             ],
             [
              0.5555555555555556,
              "#d8576b"
             ],
             [
              0.6666666666666666,
              "#ed7953"
             ],
             [
              0.7777777777777778,
              "#fb9f3a"
             ],
             [
              0.8888888888888888,
              "#fdca26"
             ],
             [
              1,
              "#f0f921"
             ]
            ],
            "type": "histogram2d"
           }
          ],
          "histogram2dcontour": [
           {
            "colorbar": {
             "outlinewidth": 0,
             "ticks": ""
            },
            "colorscale": [
             [
              0,
              "#0d0887"
             ],
             [
              0.1111111111111111,
              "#46039f"
             ],
             [
              0.2222222222222222,
              "#7201a8"
             ],
             [
              0.3333333333333333,
              "#9c179e"
             ],
             [
              0.4444444444444444,
              "#bd3786"
             ],
             [
              0.5555555555555556,
              "#d8576b"
             ],
             [
              0.6666666666666666,
              "#ed7953"
             ],
             [
              0.7777777777777778,
              "#fb9f3a"
             ],
             [
              0.8888888888888888,
              "#fdca26"
             ],
             [
              1,
              "#f0f921"
             ]
            ],
            "type": "histogram2dcontour"
           }
          ],
          "mesh3d": [
           {
            "colorbar": {
             "outlinewidth": 0,
             "ticks": ""
            },
            "type": "mesh3d"
           }
          ],
          "parcoords": [
           {
            "line": {
             "colorbar": {
              "outlinewidth": 0,
              "ticks": ""
             }
            },
            "type": "parcoords"
           }
          ],
          "pie": [
           {
            "automargin": true,
            "type": "pie"
           }
          ],
          "scatter": [
           {
            "fillpattern": {
             "fillmode": "overlay",
             "size": 10,
             "solidity": 0.2
            },
            "type": "scatter"
           }
          ],
          "scatter3d": [
           {
            "line": {
             "colorbar": {
              "outlinewidth": 0,
              "ticks": ""
             }
            },
            "marker": {
             "colorbar": {
              "outlinewidth": 0,
              "ticks": ""
             }
            },
            "type": "scatter3d"
           }
          ],
          "scattercarpet": [
           {
            "marker": {
             "colorbar": {
              "outlinewidth": 0,
              "ticks": ""
             }
            },
            "type": "scattercarpet"
           }
          ],
          "scattergeo": [
           {
            "marker": {
             "colorbar": {
              "outlinewidth": 0,
              "ticks": ""
             }
            },
            "type": "scattergeo"
           }
          ],
          "scattergl": [
           {
            "marker": {
             "colorbar": {
              "outlinewidth": 0,
              "ticks": ""
             }
            },
            "type": "scattergl"
           }
          ],
          "scattermapbox": [
           {
            "marker": {
             "colorbar": {
              "outlinewidth": 0,
              "ticks": ""
             }
            },
            "type": "scattermapbox"
           }
          ],
          "scatterpolar": [
           {
            "marker": {
             "colorbar": {
              "outlinewidth": 0,
              "ticks": ""
             }
            },
            "type": "scatterpolar"
           }
          ],
          "scatterpolargl": [
           {
            "marker": {
             "colorbar": {
              "outlinewidth": 0,
              "ticks": ""
             }
            },
            "type": "scatterpolargl"
           }
          ],
          "scatterternary": [
           {
            "marker": {
             "colorbar": {
              "outlinewidth": 0,
              "ticks": ""
             }
            },
            "type": "scatterternary"
           }
          ],
          "surface": [
           {
            "colorbar": {
             "outlinewidth": 0,
             "ticks": ""
            },
            "colorscale": [
             [
              0,
              "#0d0887"
             ],
             [
              0.1111111111111111,
              "#46039f"
             ],
             [
              0.2222222222222222,
              "#7201a8"
             ],
             [
              0.3333333333333333,
              "#9c179e"
             ],
             [
              0.4444444444444444,
              "#bd3786"
             ],
             [
              0.5555555555555556,
              "#d8576b"
             ],
             [
              0.6666666666666666,
              "#ed7953"
             ],
             [
              0.7777777777777778,
              "#fb9f3a"
             ],
             [
              0.8888888888888888,
              "#fdca26"
             ],
             [
              1,
              "#f0f921"
             ]
            ],
            "type": "surface"
           }
          ],
          "table": [
           {
            "cells": {
             "fill": {
              "color": "#EBF0F8"
             },
             "line": {
              "color": "white"
             }
            },
            "header": {
             "fill": {
              "color": "#C8D4E3"
             },
             "line": {
              "color": "white"
             }
            },
            "type": "table"
           }
          ]
         },
         "layout": {
          "annotationdefaults": {
           "arrowcolor": "#2a3f5f",
           "arrowhead": 0,
           "arrowwidth": 1
          },
          "autotypenumbers": "strict",
          "coloraxis": {
           "colorbar": {
            "outlinewidth": 0,
            "ticks": ""
           }
          },
          "colorscale": {
           "diverging": [
            [
             0,
             "#8e0152"
            ],
            [
             0.1,
             "#c51b7d"
            ],
            [
             0.2,
             "#de77ae"
            ],
            [
             0.3,
             "#f1b6da"
            ],
            [
             0.4,
             "#fde0ef"
            ],
            [
             0.5,
             "#f7f7f7"
            ],
            [
             0.6,
             "#e6f5d0"
            ],
            [
             0.7,
             "#b8e186"
            ],
            [
             0.8,
             "#7fbc41"
            ],
            [
             0.9,
             "#4d9221"
            ],
            [
             1,
             "#276419"
            ]
           ],
           "sequential": [
            [
             0,
             "#0d0887"
            ],
            [
             0.1111111111111111,
             "#46039f"
            ],
            [
             0.2222222222222222,
             "#7201a8"
            ],
            [
             0.3333333333333333,
             "#9c179e"
            ],
            [
             0.4444444444444444,
             "#bd3786"
            ],
            [
             0.5555555555555556,
             "#d8576b"
            ],
            [
             0.6666666666666666,
             "#ed7953"
            ],
            [
             0.7777777777777778,
             "#fb9f3a"
            ],
            [
             0.8888888888888888,
             "#fdca26"
            ],
            [
             1,
             "#f0f921"
            ]
           ],
           "sequentialminus": [
            [
             0,
             "#0d0887"
            ],
            [
             0.1111111111111111,
             "#46039f"
            ],
            [
             0.2222222222222222,
             "#7201a8"
            ],
            [
             0.3333333333333333,
             "#9c179e"
            ],
            [
             0.4444444444444444,
             "#bd3786"
            ],
            [
             0.5555555555555556,
             "#d8576b"
            ],
            [
             0.6666666666666666,
             "#ed7953"
            ],
            [
             0.7777777777777778,
             "#fb9f3a"
            ],
            [
             0.8888888888888888,
             "#fdca26"
            ],
            [
             1,
             "#f0f921"
            ]
           ]
          },
          "colorway": [
           "#636efa",
           "#EF553B",
           "#00cc96",
           "#ab63fa",
           "#FFA15A",
           "#19d3f3",
           "#FF6692",
           "#B6E880",
           "#FF97FF",
           "#FECB52"
          ],
          "font": {
           "color": "#2a3f5f"
          },
          "geo": {
           "bgcolor": "white",
           "lakecolor": "white",
           "landcolor": "#E5ECF6",
           "showlakes": true,
           "showland": true,
           "subunitcolor": "white"
          },
          "hoverlabel": {
           "align": "left"
          },
          "hovermode": "closest",
          "mapbox": {
           "style": "light"
          },
          "paper_bgcolor": "white",
          "plot_bgcolor": "#E5ECF6",
          "polar": {
           "angularaxis": {
            "gridcolor": "white",
            "linecolor": "white",
            "ticks": ""
           },
           "bgcolor": "#E5ECF6",
           "radialaxis": {
            "gridcolor": "white",
            "linecolor": "white",
            "ticks": ""
           }
          },
          "scene": {
           "xaxis": {
            "backgroundcolor": "#E5ECF6",
            "gridcolor": "white",
            "gridwidth": 2,
            "linecolor": "white",
            "showbackground": true,
            "ticks": "",
            "zerolinecolor": "white"
           },
           "yaxis": {
            "backgroundcolor": "#E5ECF6",
            "gridcolor": "white",
            "gridwidth": 2,
            "linecolor": "white",
            "showbackground": true,
            "ticks": "",
            "zerolinecolor": "white"
           },
           "zaxis": {
            "backgroundcolor": "#E5ECF6",
            "gridcolor": "white",
            "gridwidth": 2,
            "linecolor": "white",
            "showbackground": true,
            "ticks": "",
            "zerolinecolor": "white"
           }
          },
          "shapedefaults": {
           "line": {
            "color": "#2a3f5f"
           }
          },
          "ternary": {
           "aaxis": {
            "gridcolor": "white",
            "linecolor": "white",
            "ticks": ""
           },
           "baxis": {
            "gridcolor": "white",
            "linecolor": "white",
            "ticks": ""
           },
           "bgcolor": "#E5ECF6",
           "caxis": {
            "gridcolor": "white",
            "linecolor": "white",
            "ticks": ""
           }
          },
          "title": {
           "x": 0.05
          },
          "xaxis": {
           "automargin": true,
           "gridcolor": "white",
           "linecolor": "white",
           "ticks": "",
           "title": {
            "standoff": 15
           },
           "zerolinecolor": "white",
           "zerolinewidth": 2
          },
          "yaxis": {
           "automargin": true,
           "gridcolor": "white",
           "linecolor": "white",
           "ticks": "",
           "title": {
            "standoff": 15
           },
           "zerolinecolor": "white",
           "zerolinewidth": 2
          }
         }
        },
        "title": {
         "text": "States by Average Cost of Diabetes"
        }
       }
      },
      "text/html": [
       "<div>                            <div id=\"7b2e9522-7acb-4998-a3b0-c074979401a9\" class=\"plotly-graph-div\" style=\"height:525px; width:100%;\"></div>            <script type=\"text/javascript\">                require([\"plotly\"], function(Plotly) {                    window.PLOTLYENV=window.PLOTLYENV || {};                                    if (document.getElementById(\"7b2e9522-7acb-4998-a3b0-c074979401a9\")) {                    Plotly.newPlot(                        \"7b2e9522-7acb-4998-a3b0-c074979401a9\",                        [{\"coloraxis\":\"coloraxis\",\"geo\":\"geo\",\"hovertemplate\":\"State_Abbreviation=%{location}<br>Avg_Cost=%{z}<extra></extra>\",\"locationmode\":\"USA-states\",\"locations\":[\"MI\",\"NY\",\"FL\",\"IL\",\"OH\",\"TX\",\"CO\",\"NC\",\"CA\",\"MO\",\"NV\",\"WI\",\"PA\",\"AZ\",\"VA\",\"MD\",\"AL\",\"MS\",\"TN\",\"KY\",\"LA\"],\"name\":\"\",\"z\":[11793.215290841164,48559.0,10930.992000000002,7822.585,11254.81325503356,28056.077692307692,6597.889999999999,11028.18,1012.3399999999999,9388.07,38525.884999999995,16886.525,3906.0414285714287,13216.725,2975.41,8902.28,9362.3825,52867.1,9043.32,13777.54,4901.9],\"type\":\"choropleth\"}],                        {\"template\":{\"data\":{\"histogram2dcontour\":[{\"type\":\"histogram2dcontour\",\"colorbar\":{\"outlinewidth\":0,\"ticks\":\"\"},\"colorscale\":[[0.0,\"#0d0887\"],[0.1111111111111111,\"#46039f\"],[0.2222222222222222,\"#7201a8\"],[0.3333333333333333,\"#9c179e\"],[0.4444444444444444,\"#bd3786\"],[0.5555555555555556,\"#d8576b\"],[0.6666666666666666,\"#ed7953\"],[0.7777777777777778,\"#fb9f3a\"],[0.8888888888888888,\"#fdca26\"],[1.0,\"#f0f921\"]]}],\"choropleth\":[{\"type\":\"choropleth\",\"colorbar\":{\"outlinewidth\":0,\"ticks\":\"\"}}],\"histogram2d\":[{\"type\":\"histogram2d\",\"colorbar\":{\"outlinewidth\":0,\"ticks\":\"\"},\"colorscale\":[[0.0,\"#0d0887\"],[0.1111111111111111,\"#46039f\"],[0.2222222222222222,\"#7201a8\"],[0.3333333333333333,\"#9c179e\"],[0.4444444444444444,\"#bd3786\"],[0.5555555555555556,\"#d8576b\"],[0.6666666666666666,\"#ed7953\"],[0.7777777777777778,\"#fb9f3a\"],[0.8888888888888888,\"#fdca26\"],[1.0,\"#f0f921\"]]}],\"heatmap\":[{\"type\":\"heatmap\",\"colorbar\":{\"outlinewidth\":0,\"ticks\":\"\"},\"colorscale\":[[0.0,\"#0d0887\"],[0.1111111111111111,\"#46039f\"],[0.2222222222222222,\"#7201a8\"],[0.3333333333333333,\"#9c179e\"],[0.4444444444444444,\"#bd3786\"],[0.5555555555555556,\"#d8576b\"],[0.6666666666666666,\"#ed7953\"],[0.7777777777777778,\"#fb9f3a\"],[0.8888888888888888,\"#fdca26\"],[1.0,\"#f0f921\"]]}],\"heatmapgl\":[{\"type\":\"heatmapgl\",\"colorbar\":{\"outlinewidth\":0,\"ticks\":\"\"},\"colorscale\":[[0.0,\"#0d0887\"],[0.1111111111111111,\"#46039f\"],[0.2222222222222222,\"#7201a8\"],[0.3333333333333333,\"#9c179e\"],[0.4444444444444444,\"#bd3786\"],[0.5555555555555556,\"#d8576b\"],[0.6666666666666666,\"#ed7953\"],[0.7777777777777778,\"#fb9f3a\"],[0.8888888888888888,\"#fdca26\"],[1.0,\"#f0f921\"]]}],\"contourcarpet\":[{\"type\":\"contourcarpet\",\"colorbar\":{\"outlinewidth\":0,\"ticks\":\"\"}}],\"contour\":[{\"type\":\"contour\",\"colorbar\":{\"outlinewidth\":0,\"ticks\":\"\"},\"colorscale\":[[0.0,\"#0d0887\"],[0.1111111111111111,\"#46039f\"],[0.2222222222222222,\"#7201a8\"],[0.3333333333333333,\"#9c179e\"],[0.4444444444444444,\"#bd3786\"],[0.5555555555555556,\"#d8576b\"],[0.6666666666666666,\"#ed7953\"],[0.7777777777777778,\"#fb9f3a\"],[0.8888888888888888,\"#fdca26\"],[1.0,\"#f0f921\"]]}],\"surface\":[{\"type\":\"surface\",\"colorbar\":{\"outlinewidth\":0,\"ticks\":\"\"},\"colorscale\":[[0.0,\"#0d0887\"],[0.1111111111111111,\"#46039f\"],[0.2222222222222222,\"#7201a8\"],[0.3333333333333333,\"#9c179e\"],[0.4444444444444444,\"#bd3786\"],[0.5555555555555556,\"#d8576b\"],[0.6666666666666666,\"#ed7953\"],[0.7777777777777778,\"#fb9f3a\"],[0.8888888888888888,\"#fdca26\"],[1.0,\"#f0f921\"]]}],\"mesh3d\":[{\"type\":\"mesh3d\",\"colorbar\":{\"outlinewidth\":0,\"ticks\":\"\"}}],\"scatter\":[{\"fillpattern\":{\"fillmode\":\"overlay\",\"size\":10,\"solidity\":0.2},\"type\":\"scatter\"}],\"parcoords\":[{\"type\":\"parcoords\",\"line\":{\"colorbar\":{\"outlinewidth\":0,\"ticks\":\"\"}}}],\"scatterpolargl\":[{\"type\":\"scatterpolargl\",\"marker\":{\"colorbar\":{\"outlinewidth\":0,\"ticks\":\"\"}}}],\"bar\":[{\"error_x\":{\"color\":\"#2a3f5f\"},\"error_y\":{\"color\":\"#2a3f5f\"},\"marker\":{\"line\":{\"color\":\"#E5ECF6\",\"width\":0.5},\"pattern\":{\"fillmode\":\"overlay\",\"size\":10,\"solidity\":0.2}},\"type\":\"bar\"}],\"scattergeo\":[{\"type\":\"scattergeo\",\"marker\":{\"colorbar\":{\"outlinewidth\":0,\"ticks\":\"\"}}}],\"scatterpolar\":[{\"type\":\"scatterpolar\",\"marker\":{\"colorbar\":{\"outlinewidth\":0,\"ticks\":\"\"}}}],\"histogram\":[{\"marker\":{\"pattern\":{\"fillmode\":\"overlay\",\"size\":10,\"solidity\":0.2}},\"type\":\"histogram\"}],\"scattergl\":[{\"type\":\"scattergl\",\"marker\":{\"colorbar\":{\"outlinewidth\":0,\"ticks\":\"\"}}}],\"scatter3d\":[{\"type\":\"scatter3d\",\"line\":{\"colorbar\":{\"outlinewidth\":0,\"ticks\":\"\"}},\"marker\":{\"colorbar\":{\"outlinewidth\":0,\"ticks\":\"\"}}}],\"scattermapbox\":[{\"type\":\"scattermapbox\",\"marker\":{\"colorbar\":{\"outlinewidth\":0,\"ticks\":\"\"}}}],\"scatterternary\":[{\"type\":\"scatterternary\",\"marker\":{\"colorbar\":{\"outlinewidth\":0,\"ticks\":\"\"}}}],\"scattercarpet\":[{\"type\":\"scattercarpet\",\"marker\":{\"colorbar\":{\"outlinewidth\":0,\"ticks\":\"\"}}}],\"carpet\":[{\"aaxis\":{\"endlinecolor\":\"#2a3f5f\",\"gridcolor\":\"white\",\"linecolor\":\"white\",\"minorgridcolor\":\"white\",\"startlinecolor\":\"#2a3f5f\"},\"baxis\":{\"endlinecolor\":\"#2a3f5f\",\"gridcolor\":\"white\",\"linecolor\":\"white\",\"minorgridcolor\":\"white\",\"startlinecolor\":\"#2a3f5f\"},\"type\":\"carpet\"}],\"table\":[{\"cells\":{\"fill\":{\"color\":\"#EBF0F8\"},\"line\":{\"color\":\"white\"}},\"header\":{\"fill\":{\"color\":\"#C8D4E3\"},\"line\":{\"color\":\"white\"}},\"type\":\"table\"}],\"barpolar\":[{\"marker\":{\"line\":{\"color\":\"#E5ECF6\",\"width\":0.5},\"pattern\":{\"fillmode\":\"overlay\",\"size\":10,\"solidity\":0.2}},\"type\":\"barpolar\"}],\"pie\":[{\"automargin\":true,\"type\":\"pie\"}]},\"layout\":{\"autotypenumbers\":\"strict\",\"colorway\":[\"#636efa\",\"#EF553B\",\"#00cc96\",\"#ab63fa\",\"#FFA15A\",\"#19d3f3\",\"#FF6692\",\"#B6E880\",\"#FF97FF\",\"#FECB52\"],\"font\":{\"color\":\"#2a3f5f\"},\"hovermode\":\"closest\",\"hoverlabel\":{\"align\":\"left\"},\"paper_bgcolor\":\"white\",\"plot_bgcolor\":\"#E5ECF6\",\"polar\":{\"bgcolor\":\"#E5ECF6\",\"angularaxis\":{\"gridcolor\":\"white\",\"linecolor\":\"white\",\"ticks\":\"\"},\"radialaxis\":{\"gridcolor\":\"white\",\"linecolor\":\"white\",\"ticks\":\"\"}},\"ternary\":{\"bgcolor\":\"#E5ECF6\",\"aaxis\":{\"gridcolor\":\"white\",\"linecolor\":\"white\",\"ticks\":\"\"},\"baxis\":{\"gridcolor\":\"white\",\"linecolor\":\"white\",\"ticks\":\"\"},\"caxis\":{\"gridcolor\":\"white\",\"linecolor\":\"white\",\"ticks\":\"\"}},\"coloraxis\":{\"colorbar\":{\"outlinewidth\":0,\"ticks\":\"\"}},\"colorscale\":{\"sequential\":[[0.0,\"#0d0887\"],[0.1111111111111111,\"#46039f\"],[0.2222222222222222,\"#7201a8\"],[0.3333333333333333,\"#9c179e\"],[0.4444444444444444,\"#bd3786\"],[0.5555555555555556,\"#d8576b\"],[0.6666666666666666,\"#ed7953\"],[0.7777777777777778,\"#fb9f3a\"],[0.8888888888888888,\"#fdca26\"],[1.0,\"#f0f921\"]],\"sequentialminus\":[[0.0,\"#0d0887\"],[0.1111111111111111,\"#46039f\"],[0.2222222222222222,\"#7201a8\"],[0.3333333333333333,\"#9c179e\"],[0.4444444444444444,\"#bd3786\"],[0.5555555555555556,\"#d8576b\"],[0.6666666666666666,\"#ed7953\"],[0.7777777777777778,\"#fb9f3a\"],[0.8888888888888888,\"#fdca26\"],[1.0,\"#f0f921\"]],\"diverging\":[[0,\"#8e0152\"],[0.1,\"#c51b7d\"],[0.2,\"#de77ae\"],[0.3,\"#f1b6da\"],[0.4,\"#fde0ef\"],[0.5,\"#f7f7f7\"],[0.6,\"#e6f5d0\"],[0.7,\"#b8e186\"],[0.8,\"#7fbc41\"],[0.9,\"#4d9221\"],[1,\"#276419\"]]},\"xaxis\":{\"gridcolor\":\"white\",\"linecolor\":\"white\",\"ticks\":\"\",\"title\":{\"standoff\":15},\"zerolinecolor\":\"white\",\"automargin\":true,\"zerolinewidth\":2},\"yaxis\":{\"gridcolor\":\"white\",\"linecolor\":\"white\",\"ticks\":\"\",\"title\":{\"standoff\":15},\"zerolinecolor\":\"white\",\"automargin\":true,\"zerolinewidth\":2},\"scene\":{\"xaxis\":{\"backgroundcolor\":\"#E5ECF6\",\"gridcolor\":\"white\",\"linecolor\":\"white\",\"showbackground\":true,\"ticks\":\"\",\"zerolinecolor\":\"white\",\"gridwidth\":2},\"yaxis\":{\"backgroundcolor\":\"#E5ECF6\",\"gridcolor\":\"white\",\"linecolor\":\"white\",\"showbackground\":true,\"ticks\":\"\",\"zerolinecolor\":\"white\",\"gridwidth\":2},\"zaxis\":{\"backgroundcolor\":\"#E5ECF6\",\"gridcolor\":\"white\",\"linecolor\":\"white\",\"showbackground\":true,\"ticks\":\"\",\"zerolinecolor\":\"white\",\"gridwidth\":2}},\"shapedefaults\":{\"line\":{\"color\":\"#2a3f5f\"}},\"annotationdefaults\":{\"arrowcolor\":\"#2a3f5f\",\"arrowhead\":0,\"arrowwidth\":1},\"geo\":{\"bgcolor\":\"white\",\"landcolor\":\"#E5ECF6\",\"subunitcolor\":\"white\",\"showland\":true,\"showlakes\":true,\"lakecolor\":\"white\"},\"title\":{\"x\":0.05},\"mapbox\":{\"style\":\"light\"}}},\"geo\":{\"domain\":{\"x\":[0.0,1.0],\"y\":[0.0,1.0]},\"center\":{},\"scope\":\"usa\"},\"coloraxis\":{\"colorbar\":{\"title\":{\"text\":\"Avg_Cost\"}},\"colorscale\":[[0.0,\"#0d0887\"],[0.1111111111111111,\"#46039f\"],[0.2222222222222222,\"#7201a8\"],[0.3333333333333333,\"#9c179e\"],[0.4444444444444444,\"#bd3786\"],[0.5555555555555556,\"#d8576b\"],[0.6666666666666666,\"#ed7953\"],[0.7777777777777778,\"#fb9f3a\"],[0.8888888888888888,\"#fdca26\"],[1.0,\"#f0f921\"]]},\"legend\":{\"tracegroupgap\":0},\"title\":{\"text\":\"States by Average Cost of Diabetes\"}},                        {\"responsive\": true}                    ).then(function(){\n",
       "                            \n",
       "var gd = document.getElementById('7b2e9522-7acb-4998-a3b0-c074979401a9');\n",
       "var x = new MutationObserver(function (mutations, observer) {{\n",
       "        var display = window.getComputedStyle(gd).display;\n",
       "        if (!display || display === 'none') {{\n",
       "            console.log([gd, 'removed!']);\n",
       "            Plotly.purge(gd);\n",
       "            observer.disconnect();\n",
       "        }}\n",
       "}});\n",
       "\n",
       "// Listen for the removal of the full notebook cells\n",
       "var notebookContainer = gd.closest('#notebook-container');\n",
       "if (notebookContainer) {{\n",
       "    x.observe(notebookContainer, {childList: true});\n",
       "}}\n",
       "\n",
       "// Listen for the clearing of the current output cell\n",
       "var outputEl = gd.closest('.output');\n",
       "if (outputEl) {{\n",
       "    x.observe(outputEl, {childList: true});\n",
       "}}\n",
       "\n",
       "                        })                };                });            </script>        </div>"
      ]
     },
     "metadata": {},
     "output_type": "display_data"
    }
   ],
   "source": [
    "state_abbreviations = {'Michigan': 'MI','New York': 'NY','Florida': 'FL','Illinois': 'IL',\n",
    "                       'Ohio': 'OH','Texas': 'TX','Colorado': 'CO','North Carolina': 'NC',\n",
    "                       'California': 'CA','Missouri': 'MO','Nevada': 'NV','Wisconsin': 'WI',\n",
    "                       'Pennsylvania': 'PA','Arizona': 'AZ','Virginia': 'VA','Maryland': 'MD',\n",
    "                       'Alabama': 'AL','Mississippi': 'MS','Tennessee': 'TN','Kentucky': 'KY',\n",
    "                       'Louisiana': 'LA','Washington': 'WA','Georgia': 'GA','Massachusetts': 'MA'}\n",
    "\n",
    "state_and_cost = duckdb.sql(\"SELECT State, AVG(TotalCost_Y_Actual) AS Avg_Cost \\\n",
    "FROM (SELECT * FROM diabetes_df WHERE TotalCost_Y_Actual != 'NaN') b \\\n",
    "WHERE State != 'Unknown' GROUP BY State\").df()\n",
    "state_and_cost['State_Abbreviation'] = state_and_cost['State'].map(state_abbreviations)\n",
    "\n",
    "fig = px.choropleth(state_and_cost, locations = 'State_Abbreviation', \\\n",
    "                    locationmode = 'USA-states', color = 'Avg_Cost', \\\n",
    "                    scope = 'usa', title = 'States by Average Cost of Diabetes')\n",
    "fig.show()"
   ]
  },
  {
   "cell_type": "markdown",
   "id": "4d33930a",
   "metadata": {},
   "source": [
    "**Total Cost vs Race**\n",
    "\n",
    "The 'Total Cost vs Race' bar plot below shows the range of cost depending on a patient's race/ethnicity. It shows that patients who North American Natives spend much more on diabetes care compared to other ethcities and also have a wider range of outliers. A regression model will tell us exactly how much impact being a North American Native has on cost and if this is indeed a significant amount."
   ]
  },
  {
   "cell_type": "code",
   "execution_count": 95,
   "id": "f0144069",
   "metadata": {},
   "outputs": [
    {
     "data": {
      "image/png": "[encoded data removed]",
      "text/plain": [
       "<Figure size 640x480 with 1 Axes>"
      ]
     },
     "metadata": {},
     "output_type": "display_data"
    }
   ],
   "source": [
    "sns.barplot(x='Race', y='TotalCost_Y_Actual', data=diabetes_df,)\n",
    "plt.xlabel('Race')\n",
    "plt.ylabel('Cost')\n",
    "plt.title('Total Cost vs Race')\n",
    "plt.xticks(rotation = 15)\n",
    "plt.show()"
   ]
  },
  {
   "cell_type": "markdown",
   "id": "1297a147",
   "metadata": {},
   "source": [
    "**Total Cost vs Average ADI**\n",
    "\n",
    "The 'Total Cost vs Average ADI' scatterplot below shows the distribution of diabetes cost based on ADI. The distribution looks almost normal in that extremely low and high ADI's are associated with a lower cost and ADI's that are in the middle region have a slightly higher total cost along with outliers. To test our hypothesis that patients with lower ADI's pay less for diabetes cost, we will have to do further analysis that gives us the significance of the ADI and we canot determine that from this plot alone.\n"
   ]
  },
  {
   "cell_type": "code",
   "execution_count": null,
   "id": "f2d32fd9",
   "metadata": {},
   "outputs": [],
   "source": [
    "sns.scatterplot(data = diabetes_df, x = 'Avg_ADI', y = 'TotalCost_Y_Actual', hue = 'Avg_ADI')\n",
    "plt.xlabel('Average ADI')\n",
    "plt.ylabel('Total Cost')\n",
    "plt.title('Total Cost vs Average ADI')\n",
    "plt.show()"
   ]
  },
  {
   "cell_type": "markdown",
   "id": "94227336",
   "metadata": {},
   "source": [
    "**Medication Usage by Race**\n",
    "\n",
    "The 'Medication Usage by Race' bar graph below shows how many people use each type of diabetes medication in diabetes_df. Then for each medication, it shows the number of people from each race who use it. We see that dapagliflozin is the most used diabetes medication from our database and people whose race are White use it more followed by people whose race are Black. The race distribution of the bar graphs are mainly due to the number of datapoints we have for each race. We have more patients who are White than who are other races. We did this graph to see if there is a relationship between medicine usage and race that is worth exploring in our later analysis."
   ]
  },
  {
   "cell_type": "code",
   "execution_count": null,
   "id": "c194f1aa",
   "metadata": {},
   "outputs": [],
   "source": [
    "melted_meds = pd.melt(diabetes_df, id_vars = ['ID', 'Age', 'Sex', 'Race','Region', 'TotalCost_Y_Actual'] , value_vars = diabetes_df.iloc[:, 44:52], var_name = 'medicine', value_name = 'uses_or_not')\n",
    "\n",
    "med_by_race = duckdb.sql(\"SELECT Race, medicine, SUM(uses_or_not) as med_count FROM melted_meds WHERE Race != 'UnKnown' GROUP BY Race, medicine\").df()\n",
    "\n",
    "\n",
    "race_count = {}\n",
    "for i in range(0, 6):\n",
    "    race_count[med_by_race['Race'][i]] = [med_by_race['med_count'][i], med_by_race['med_count'][i + 6], med_by_race['med_count'][i + 12], med_by_race['med_count'][i +18], med_by_race['med_count'][i + 24], med_by_race['med_count'][i + 30], med_by_race['med_count'][i + 36], med_by_race['med_count'][i + 42] ]\n",
    "\n",
    "\n",
    "bottom = np.zeros(8)\n",
    "width = 0.5\n",
    "for boolean, count in race_count.items():\n",
    "    p = plt.bar(medication_df.columns[2:], count, width, label=boolean, bottom=bottom)\n",
    "    bottom += count\n",
    "plt.title(\"Medication Usage by Race\")\n",
    "plt.legend(loc=\"upper right\")\n",
    "plt.xlabel(\"Medication\")\n",
    "plt.ylabel(\"Count\")\n",
    "plt.xticks(rotation = 85)\n",
    "plt.show()"
   ]
  },
  {
   "cell_type": "markdown",
   "id": "44daf3ce-1f8c-449f-957a-bed58fd829f3",
   "metadata": {},
   "source": [
    "**Medication Usage by Patient Expenditure**\n",
    "\n",
    "The 'Medication Usage by Patient Expenditure' bar graph below shows the amount of people in the diabetes_df dataframe who use each type of medicine and for each medicine, the amount of people who pay within a certain cost range for their total diabetes treatments."
   ]
  },
  {
   "cell_type": "code",
   "execution_count": null,
   "id": "40c1fc3e-1ecd-4dbb-8fe2-6814ef5f9254",
   "metadata": {},
   "outputs": [],
   "source": [
    "cost = diabetes_df['TotalCost_Y_Actual']\n",
    "very_high = cost[cost >= 100000] #205\n",
    "high = cost[(cost >= 50000 ) & (cost < 100000)] #679\n",
    "med = cost[(cost >= 10000 ) & (cost < 50000)] #3493\n",
    "low = cost[cost < 10000] #11951\n",
    "\n",
    "med_by_cost = duckdb.sql(\"SELECT medicine, (CASE WHEN TotalCost_Y_Actual >= 100000 THEN '>= 100,000' \\\n",
    "WHEN TotalCost_Y_Actual >= 50000 AND TotalCost_Y_Actual < 100000 THEN '>= 50,000 to 100,000' \\\n",
    "WHEN TotalCost_Y_Actual >= 10000 AND TotalCost_Y_Actual < 50000 THEN '>= 10,000 to 50,000' \\\n",
    "WHEN TotalCost_Y_Actual < 10000 THEN '<10,000' ELSE 'NA' END ) AS cost_range, SUM(uses_or_not) as med_count FROM melted_meds WHERE cost_range != 'NA' GROUP BY cost_range, medicine\").df()\n",
    "\n",
    "cost_range_count = {}\n",
    "for i in range(0, 4):\n",
    "    cost_range_count[med_by_cost['cost_range'][i]] = [med_by_cost['med_count'][i], med_by_cost['med_count'][i + 4], med_by_cost['med_count'][i + 8], med_by_cost['med_count'][i +12], med_by_cost['med_count'][i + 16], med_by_cost['med_count'][i + 20], med_by_cost['med_count'][i + 24], med_by_cost['med_count'][i + 28] ]\n",
    "# print(cost_range_count)\n",
    "\n",
    "bottom = np.zeros(8)\n",
    "width = 0.5\n",
    "for boolean, count in cost_range_count.items():\n",
    "    p = plt.bar(medication_df.columns[2:], count, width, label=boolean, bottom=bottom)\n",
    "    bottom += count\n",
    "plt.title(\"Medication Usage by Patient Expenditure\")\n",
    "plt.legend(loc=\"upper right\")\n",
    "plt.xticks(rotation = 85)\n",
    "plt.show()\n"
   ]
  },
  {
   "cell_type": "markdown",
   "id": "55f36484",
   "metadata": {},
   "source": [
    "### Modeling\n",
    "\n",
    "We will create a series of models to help answer our research question and hypotheses. In attempt to analyze the magnitude of the effect certain treatment and demographic attributes have on cost, we will create a multivariate regression model that is fit for making cost predictions at a reasonably minimal degree of error."
   ]
  },
  {
   "cell_type": "markdown",
   "id": "af9c5763",
   "metadata": {},
   "source": [
    "**Preparing diabetes_df to have a Region attribute and only numeric data types**\n",
    "\n",
    "We will create a linear regression model to analyze the effects of certain attributes on cost and one attribute we want to test is the region. diabetes_df only contains a column for state, and not region so we have to create our own region column called 'Region' by mapping states to 4 regions: Northeast, South, Midwest, and West. The results of our model will help us in our conclusion to our first hypothesis that patients in the South pay more for diabetes care.\n",
    "\n",
    "Linear regressions only take in numerical values so we then have to turn 'Region' into dummy variables with each region a column with 1 or 0 for each row indicating that yes (1) the patient is from that region  or no (0) they are not.\n",
    "\n",
    "Another attribute whose effect on cost we want to analyze is 'Sex'. Currently the values for 'Sex' are either 'Male' or 'Female' so we have to turn these values into binary 0 or 1 values. 0 meaning the patient is 'Male' and 1 meaning 'Female'.\n",
    "\n",
    "We also added two columns-- '#_ER' which counts the number of ER visits and '#_ER_Admissions' which counts the number of ER admissions-- together because we do not find it necessary to distinguish between visits and admissions. This new column is 'ER_Admissions' and we will analyze the effect of this on cost as well. \n"
   ]
  },
  {
   "cell_type": "code",
   "execution_count": null,
   "id": "06d778f7",
   "metadata": {},
   "outputs": [],
   "source": [
    "state_to_region = {'Northeast': ['New York', 'Massachusetts', 'Pennsylvania', 'Maryland'],\n",
    "                  'South': ['Florida', 'Texas', 'Tennessee', 'Kentucky', 'North Carolina', 'Virginia', \n",
    "                            'Alabama', 'Louisiana', 'Georgia', 'Mississippi', 'Missouri'],\n",
    "                  'Midwest': ['Illinois', 'Ohio', 'Michigan', 'Wisconsin'], \n",
    "                   'West': ['Colorado', 'Washington', 'California', 'Nevada', 'Arizona']}\n",
    "\n",
    "diabetes_df['Region'] = pd.Series()\n",
    "\n",
    "for i in range(len(diabetes_df['State'])):\n",
    "    if diabetes_df['State'][i] in state_to_region['Northeast']:\n",
    "        diabetes_df['Region'][i] = 'Northeast'\n",
    "    elif diabetes_df['State'][i] in state_to_region['South']:\n",
    "        diabetes_df['Region'][i] = 'South'\n",
    "    elif diabetes_df['State'][i] in state_to_region['Midwest']:\n",
    "        diabetes_df['Region'][i] = 'Midwest'\n",
    "    elif diabetes_df['State'][i] in state_to_region['West']:\n",
    "        diabetes_df['Region'][i] = 'West' \n",
    "    else:\n",
    "        diabetes_df['Region'][i] = 'Unknown'\n",
    "\n",
    "region_dummies = pd.get_dummies(diabetes_df['Region'], dtype = int)\n",
    "race_dummies = pd.get_dummies(diabetes_df['Race'], dtype = int)\n",
    "\n",
    "gender_dict = {'Male': 0, 'Female': 1}\n",
    "diabetes_df['Sex'] = diabetes_df['Sex'].map(gender_dict)\n",
    "\n",
    "er = diabetes_df['#_ER'] + diabetes_df['#_ER_Admissions']\n",
    "er\n",
    "diabetes_df['ER_Admissions'] = er"
   ]
  },
  {
   "cell_type": "markdown",
   "id": "4cf535a6-8f55-4f33-ae4d-adcc9e877b22",
   "metadata": {},
   "source": [
    "**diabetes_with_dummies** is the dataframe we will now use for training, testing, and creating our linear model."
   ]
  },
  {
   "cell_type": "code",
   "execution_count": null,
   "id": "66a2d58a",
   "metadata": {},
   "outputs": [],
   "source": [
    "diabetes_with_dummies = pd.concat([diabetes_df, race_dummies, region_dummies], axis = 1)\n",
    "\n",
    "diabetes_with_dummies = diabetes_with_dummies.rename(columns = {'UnKnown':'Unknown_race', 'Other Race' : 'Other_race', \n",
    "                                                        'North American Native': 'North_American_Native', \n",
    "                                                                'Unknown': 'Unknown_region'})\n"
   ]
  },
  {
   "cell_type": "markdown",
   "id": "87e6524f",
   "metadata": {},
   "source": [
    "**Log-log transformation on diabetes_with_dummies before splitting and training model**\n",
    "\n",
    "We will do a log-log transformation on our model because we found that it produces a more random residual plot which gives us indication that we can use the model to make predictions."
   ]
  },
  {
   "cell_type": "code",
   "execution_count": null,
   "id": "5cb5f71d",
   "metadata": {},
   "outputs": [],
   "source": [
    "log_cost = np.log(diabetes_with_dummies['TotalCost_Y_Actual'])\n",
    "diabetes_with_dummies['log_cost'] = log_cost \n",
    "\n",
    "diabetes_with_dummies = diabetes_with_dummies[np.isfinite(diabetes_with_dummies['log_cost']) == True] \n",
    "\n",
    "log_columns = ['Age', 'Diagnosis', '#_Total_Claims', '#_Rx_Claims', 'Avg_ADI', 'Avg._LOS']\n",
    "diabetes_with_dummies[['log_Age','log_Diagnosis', 'log_#_Total_Claims',\n",
    "                       'log_#_Rx_Claims','log_Avg_ADI', 'log_Avg._LOS']] = np.log(diabetes_with_dummies[log_columns])"
   ]
  },
  {
   "cell_type": "markdown",
   "id": "a75065c4",
   "metadata": {},
   "source": [
    "**Creating training and testing dataframes** "
   ]
  },
  {
   "cell_type": "code",
   "execution_count": null,
   "id": "accf7bb9",
   "metadata": {},
   "outputs": [],
   "source": [
    "diabetes_train, diabetes_test = train_test_split(diabetes_with_dummies, test_size = 0.2, \n",
    "                                                 train_size = 0.8, random_state = 2950)\n",
    "\n",
    "diabetes_train = diabetes_train[diabetes_train['TotalCost_Y_Actual'].isnull() == False]"
   ]
  },
  {
   "cell_type": "markdown",
   "id": "97d6979d",
   "metadata": {},
   "source": [
    "**Fitting our model**\n",
    "\n",
    "The attributes we have decided to use in our model are {'log_Age', 'Sex','Avg._LOS', 'log_Diagnosis', 'log_#_Total_Claims', '#_Rehabilitation_Hospital','#_Readmissions', '#_Labs', '#_Imaging', '#_Dialysis','log_#_Rx_Claims', '#_DME', 'dapagliflozin','exenatide', 'glimepiride', 'glyburide_and_metformin_hydrochloride','insulin', 'metformin_hydrochloride', 'pioglitazone', 'sitagliptin_and_metformin_hydrochloride', 'log_Avg_ADI', 'ER_Admissions', 'Asian', 'Black', 'Hispanic','Other_race', 'Unknown_race', 'White', 'Midwest', 'South','Unknown_region', 'West'}. \n",
    "\n",
    "We chose 'North American Native' as our reference variable for the different race attributes because in our 'Total Cost vs Race' bar graph earlier on, we saw that 'North American Natives' payed more for diabetes than the other races and this wil allow us to compare just how different the expected cost for these other races are from 'North American Native'.\n",
    "\n",
    "We chose 'Northeast' as our reference variable for the different regions."
   ]
  },
  {
   "cell_type": "code",
   "execution_count": null,
   "id": "aea9ec27",
   "metadata": {},
   "outputs": [],
   "source": [
    "diabetes_train = diabetes_train.dropna() #drop na from training dataframe\n",
    "\n",
    "input_columns = ['log_Age', 'Sex',\n",
    "       'Avg._LOS', 'log_Diagnosis', 'log_#_Total_Claims', '#_Rehabilitation_Hospital',\n",
    "        '#_Readmissions', '#_Labs', '#_Imaging', '#_Dialysis', \n",
    "         'log_#_Rx_Claims', '#_DME', 'dapagliflozin',\n",
    "       'exenatide', 'glimepiride', 'glyburide_and_metformin_hydrochloride',\n",
    "       'insulin', 'metformin_hydrochloride', 'pioglitazone',\n",
    "       'sitagliptin_and_metformin_hydrochloride', 'log_Avg_ADI', \n",
    "       'ER_Admissions', 'Asian', 'Black', 'Hispanic',\n",
    "       'Other_race', 'Unknown_race', 'White', 'Midwest', 'South',\n",
    "       'Unknown_region', 'West']\n",
    "\n",
    "X = diabetes_train[input_columns]\n",
    "y = diabetes_train[['log_cost']]\n",
    "\n",
    "model = LinearRegression().fit(X,y)\n",
    "\n",
    "#displaying coefficients\n",
    "coefs = model.coef_[0] \n",
    "loop = zip(input_columns, coefs)\n",
    "d = dict(loop)\n",
    "for i in d:\n",
    "    print(f'{i}: {round(d[i],2)}')\n",
    "\n",
    "#displaying intercept\n",
    "interc = round(model.intercept_[0],2)\n",
    "print(f'intercept: {interc}')\n"
   ]
  },
  {
   "cell_type": "markdown",
   "id": "b5769c10-6ee4-416c-a05b-8dfadce11553",
   "metadata": {},
   "source": [
    "This is our model in the form of an equation where $x_1$.... $x_{32}$ are 'log_Age' .... 'West'."
   ]
  },
  {
   "cell_type": "markdown",
   "id": "98781965-8ed7-4801-8146-011c90340c9e",
   "metadata": {},
   "source": [
    "$$ ln(y) = 1.1 + 0.77ln(x_1) -0.07(x_2) + 0.0(x_3) + 0.57ln(x_4) + \\\n",
    "0.63ln(x_5) - 0.2(x_6) - 0.08(x_7) + 0.0(x_8) + 0.03(x_9) + \\\n",
    "0.15(x_{10}) - 0.11ln(x_{11}) + 0.02(x_{12}) - 0.03(x_{13}) - \\\n",
    "0.18(x_{14}) - 0.1(x_{15}) - 0.38(x_{16}) + 0.13(x_{17}) - 0.11(x_{18}) - \\\n",
    "0.08(x_{19}) - 0.21(x_{20}) - 0.02ln(x_{21}) - 0.08(x_{22}) - 0.65(x_{23}) - \\\n",
    "0.52(x_{24}) - 0.69(x_{25}) - 0.65(x_{26}) - 0.66(x_{27}) - 0.54(x_{28}) + \\\n",
    "0.37(x_{29}) + 0.59(x_{30}) + 0.0(x_{31}) + 2.68(x_{32})$$"
   ]
  },
  {
   "cell_type": "markdown",
   "id": "dc6285de-3558-4e40-9ddd-6b382759dc61",
   "metadata": {},
   "source": [
    "**Interpretations of Model**\n",
    "**Answering Hypothesis 1**:\n",
    "If a diabetes patient is in the Southern region, with all else equals, we expect the total cost of their diabetes care to be e^0.59 = 1.8 times more compared to if they are in the Northeast region. The west however, has the biggest price increase compared to the northeast. If a diabetes patient is in the Western region, with all else equals, we expect the total cost of their diabetes care to be e^2.68 = 14.5 times more compared to the Northeast region. So it is not true that patients in the South spend more on diabetes care. However, we also do not know how significant the impact of being in the West is on cost. We will use our P-values for our OLS model below.\n",
    "\n",
    "If a diabetes patient is in the Southern region, with all else equals, we expect the total cost of their diabetes care to be e^0.59 times more compared if they are in the Northeast region. The west however, has the biggest price increase compared to the northeast. If a diabetes patient is in the Western region, with all else equals, we expect the total cost of their diabetes care to be e^2.68 times more compared to the Northeast region.\n",
    "\n",
    "To answer hypothesis 2, if a diabetes patient has an average deprivation index multiplied by e, we expect the total cost of their diabetes care to be multiplied by e^(-0.02).\n",
    "\n",
    "If a patient is Black, we expect the cost of treatment to be multiplied by e^-0.52 ~ 0.59 times more than if a patient is North American Native\n",
    "\n",
    "If a patient is Hispanic, we expect the cost of treatment to be multiplied by e^-0.69 ~ 0.50 times more than if the patient is North American Native \n",
    "\n",
    "If a patient’s ADI is multiplied by $e$, with all else equals, we expect the cost to be e^-0.02 = 0.98 times. So this supports our hypothesis that patients with higher ADI will pay more for diabetes care. However, we still need to interpret our P-values from our statistical test that we will do later to determine if ADI is indeed a signficant factor on cost.\n",
    "\n",
    "If the patient's age is multiplied by e, we would expect the cost to be multiplied by e^0.77 ~ 2.15\n",
    "\n",
    "For every additional day of the average length of stay, we expect the cost to be multiplied by e^0 ~ 1. This suggests that the average length of days a patient stays in the hospital doesn't change the cost of treatment."
   ]
  },
  {
   "cell_type": "code",
   "execution_count": null,
   "id": "cf1e87cf",
   "metadata": {},
   "outputs": [],
   "source": [
    "\n",
    "diabetes_test = diabetes_test.dropna() #drop na from testing dataframe\n",
    "\n",
    "train_predictions = model.predict(diabetes_train[input_columns])\n",
    "test_predictions = model.predict(diabetes_test[input_columns])\n",
    "\n",
    "\n",
    "print(len(train_predictions))\n",
    "print(len(test_predictions))\n",
    "\n"
   ]
  },
  {
   "cell_type": "code",
   "execution_count": null,
   "id": "7f383462",
   "metadata": {},
   "outputs": [],
   "source": [
    "residuals = diabetes_train['log_cost'] - train_predictions[:, 0]\n",
    "\n",
    "plt.scatter(train_predictions[:, 0], residuals)\n",
    "plt.xlabel(\"Predicted Cost\")\n",
    "plt.ylabel(\"Residuals\")\n",
    "\n"
   ]
  },
  {
   "cell_type": "markdown",
   "id": "0ccab8a2",
   "metadata": {},
   "source": [
    "The randomness in our residual plots between predictions of our model and actual values, gives us some confidence that our model can predict cost based on certain factors. \n"
   ]
  },
  {
   "cell_type": "markdown",
   "id": "9d490550",
   "metadata": {},
   "source": [
    "**Evaluation strength of our model**\n"
   ]
  },
  {
   "cell_type": "code",
   "execution_count": null,
   "id": "bfcc4569",
   "metadata": {},
   "outputs": [],
   "source": [
    "train_rmse = np.sqrt(np.mean((train_predictions[:, 0] - diabetes_train['log_cost'])**2))\n",
    "test_rmse = np.sqrt(np.mean((test_predictions[:, 0]-diabetes_test['log_cost'])**2))\n",
    "# Print train RMSE\n",
    "print(f\"Train RMSE: {train_rmse:.2f}\")\n",
    "# Print test RMSE\n",
    "print(f\"Test RMSE: {test_rmse:.2f}\")"
   ]
  },
  {
   "cell_type": "code",
   "execution_count": null,
   "id": "30968d97",
   "metadata": {},
   "outputs": [],
   "source": [
    "maximum_train = diabetes_train['log_cost'].max() \n",
    "minimum_train = diabetes_train['log_cost'].min()\n",
    "range_val_train = maximum_train - minimum_train\n",
    "print(train_rmse/ range_val_train)\n",
    "\n",
    "maximum_test = diabetes_test['log_cost'].max() \n",
    "minimum_test = diabetes_test['log_cost'].min()\n",
    "range_val_test = maximum_test - minimum_test\n",
    "print(test_rmse/ range_val_test)"
   ]
  },
  {
   "cell_type": "markdown",
   "id": "d1665617",
   "metadata": {},
   "source": [
    "After normalizing the RMSE of the train set the value is 0.1 which is closer to zero we can confirm that we are not overfitting and our model works well for our dataset taking into account weighted errors. \n",
    "\n",
    "After normalizing the RMSE of the test set the value is 0.1 which is also closer to zero we can confirm that we are not overfitting and our model works well for our dataset taking into account weighted errors. "
   ]
  },
  {
   "cell_type": "code",
   "execution_count": null,
   "id": "6fdf80ad",
   "metadata": {},
   "outputs": [],
   "source": [
    "train_mae= np.mean(np.abs(train_predictions[:, 0] - diabetes_train['log_cost']))\n",
    "# Print train MAE\n",
    "print(f'Train MAE: {train_mae:.2f}')\n",
    "# Print test MAE\n",
    "test_mae = np.mean(np.abs(test_predictions[:, 0] - diabetes_test['log_cost']))\n",
    "print(f'Test MAE: {test_mae:.2f}')"
   ]
  },
  {
   "cell_type": "code",
   "execution_count": null,
   "id": "b12d4a8d-eb07-4931-8152-401203b3671b",
   "metadata": {},
   "outputs": [],
   "source": [
    "maximum_train = diabetes_train['log_cost'].max() \n",
    "minimum_train = diabetes_train['log_cost'].min()\n",
    "range_val_train = maximum_train - minimum_train\n",
    "print(train_mae/ range_val_train)\n",
    "\n",
    "maximum_test = diabetes_test['log_cost'].max() \n",
    "minimum_test = diabetes_test['log_cost'].min()\n",
    "range_val_test = maximum_test - minimum_test\n",
    "print(test_mae/ range_val_test)\n"
   ]
  },
  {
   "cell_type": "markdown",
   "id": "6a9c8791",
   "metadata": {},
   "source": [
    "After normalizing the MAE of the train set the value 0.08 which is close to zero and confirms that we are not overfitting and our model works well for our dataset \n",
    "\n",
    "After normalizing the MAE of the test set the value 0.10 which is close to zero and confirms that we are not overfitting and our model works well for our dataset "
   ]
  },
  {
   "cell_type": "markdown",
   "id": "ef8ed2fc-8a54-41a6-8f23-42a3184abbf6",
   "metadata": {},
   "source": [
    "**Predicting Age based on care recieved**"
   ]
  },
  {
   "cell_type": "code",
   "execution_count": null,
   "id": "fb7b1dd5-fe7b-4d9f-800c-32f5d713e100",
   "metadata": {},
   "outputs": [],
   "source": [
    "# we create a new column is_old when age >= 65 and convert it to 1 meaning old and 0 meanning not old\n",
    "diabetes_with_dummies['is_old'] = (diabetes_with_dummies['Age'] >= 65).astype(int)\n",
    "diabetes_with_dummies['is_old']"
   ]
  },
  {
   "cell_type": "code",
   "execution_count": null,
   "id": "e27fa55b-7770-4a41-aa2a-b64ae1ebad7b",
   "metadata": {},
   "outputs": [],
   "source": [
    "#create test and train dataframes with same rows as diabetes_train and diabetes_test\n",
    "\n",
    "is_old_inputs = ['#_Rehabilitation_Hospital','#_SNF', '#_Home_Health', '#_Hospice', '#_DME', 'ER_Admissions','log_cost', 'log_Avg._LOS']\n",
    "is_old_train = pd.merge(diabetes_train[is_old_inputs], diabetes_with_dummies, on = is_old_inputs, how = 'inner')\n",
    "is_old_test = pd.merge(diabetes_test[is_old_inputs], diabetes_with_dummies, on = is_old_inputs, how = 'inner')\n",
    "\n",
    "# is_old_train, is_old_test = train_test_split(diabetes_with_dummies, test_size = 0.2, train_size = 0.8, random_state = 2950)"
   ]
  },
  {
   "cell_type": "code",
   "execution_count": null,
   "id": "22c5cde3-d748-4a64-9162-8c5f6f7dd6a8",
   "metadata": {},
   "outputs": [],
   "source": [
    "is_old_train = is_old_train.dropna()\n",
    "is_old_train = is_old_train[np.isfinite(is_old_train['log_Avg._LOS']) == True] \n",
    "\n",
    "X = is_old_train[is_old_inputs]\n",
    "y = is_old_train[['is_old']].values.ravel()\n",
    "\n",
    "is_old_logistic_model = LogisticRegression().fit(X,y)\n",
    "\n",
    "is_old_coefs = is_old_logistic_model.coef_\n",
    "\n",
    "loop = zip(is_old_inputs, is_old_coefs[0])\n",
    "d = dict(loop)\n",
    "for i in d:\n",
    "    print(f'{i}: {round(d[i],2)}')\n"
   ]
  },
  {
   "cell_type": "code",
   "execution_count": null,
   "id": "a9b7d5d6-b513-40a0-bba7-9fa9eda08089",
   "metadata": {},
   "outputs": [],
   "source": [
    "is_old_prediction = is_old_logistic_model.predict_proba(is_old_train[is_old_inputs])\n",
    "is_old_train['is_old_prediction'] = is_old_prediction[:,0]\n",
    "\n",
    "sns.scatterplot(is_old_train, x = 'log_cost', y = 'is_old', hue = 'log_cost')"
   ]
  },
  {
   "cell_type": "code",
   "execution_count": null,
   "id": "7f8b83c0-9a40-492d-8c8f-b939dc36dc18",
   "metadata": {},
   "outputs": [],
   "source": [
    "sns.scatterplot(is_old_train, x = '#_Hospice', y = 'is_old', hue = '#_Hospice')"
   ]
  },
  {
   "cell_type": "code",
   "execution_count": null,
   "id": "d1afba3b",
   "metadata": {},
   "outputs": [],
   "source": [
    "#normalizer function for evaluation metrics \n",
    "def Normalizer(df_cols):\n",
    "    scaler = preprocessing.StandardScaler().fit(df_cols)\n",
    "    return(scaler.transform(df_cols))\n"
   ]
  },
  {
   "cell_type": "code",
   "execution_count": null,
   "id": "eca5af5c",
   "metadata": {},
   "outputs": [],
   "source": [
    "#evaluation metrics \n",
    "is_old_test = is_old_test[np.isfinite(is_old_test['log_Avg._LOS']) == True] \n",
    "\n",
    "X = is_old_test[is_old_inputs]\n",
    "X = Normalizer(X)\n",
    "y_pred = is_old_logistic_model.predict(X)\n",
    "\n",
    "y_true = is_old_test['is_old']\n",
    "# Print accuracy\n",
    "accuracy = accuracy_score(y_true, y_pred)\n",
    "print(f'accuracy: {accuracy:.2f}')\n",
    "\n",
    "# Print precision\n",
    "precision = precision_score(y_true, y_pred)\n",
    "print(f'precision: {precision:.2f}')\n",
    "\n",
    "# Print recall\n",
    "recall = recall_score(y_true, y_pred)\n",
    "print(f'recall: {recall:.2f}')\n",
    "\n",
    "# Print F1\n",
    "F1 = f1_score(y_true, y_pred)\n",
    "print(f'F1: {F1:.2f}')"
   ]
  },
  {
   "cell_type": "markdown",
   "id": "e09cb883",
   "metadata": {},
   "source": [
    "accuracy - The accuracy score shows that 80% of our data models the correct prediction of patients that are old\n",
    "\n",
    "precision - The precision score shows that out of all the patients predicted to be old, 80% of movies are truly old.\n",
    "\n",
    "recall - The recall score shows that out of all the correct predictions, 100% are truly old\n",
    "\n",
    "f1 score - The f1 score shows the 'level of confidence' we have in the prediction of this model because it evaluates the model accuracy by calculating the harmonic mean of both the precision and recall. Since the value 0.89 is close to 1, we can see that the model is doing well and there is a good balance between precision and recall"
   ]
  },
  {
   "cell_type": "code",
   "execution_count": null,
   "id": "fc3d1447-ea34-4ce8-af9f-1e0c7a2a95fe",
   "metadata": {},
   "outputs": [],
   "source": [
    "diabetes_with_dummies.columns"
   ]
  },
  {
   "cell_type": "markdown",
   "id": "a2f4d1b2",
   "metadata": {},
   "source": [
    "**Interpreting significance of our results**"
   ]
  },
  {
   "cell_type": "code",
   "execution_count": null,
   "id": "8df9aff5",
   "metadata": {
    "tags": []
   },
   "outputs": [],
   "source": [
    "#df = diabetes_with_dummies[['Northeast', 'South', 'Midwest', 'West', 'Unknown']]\n",
    "#diabetes_with_dummies.dropna(subset=['TotalCost_Y_Actual'], inplace=True)\n",
    "#diabetes_with_dummies.dropna(subset=['Northeast', 'South', 'Midwest', 'West'], inplace=True)\n",
    "\n",
    "\n",
    "\n",
    "X = diabetes_train[['South', 'Midwest', 'West']] #unknown region\n",
    "X = sm.add_constant(X)\n",
    "# y = diabetes_train[['TotalCost_Y_Actual']].set_index(y.index)\n",
    "y = diabetes_train['TotalCost_Y_Actual']\n",
    "\n",
    "model = sm.OLS(y, X)\n",
    "results = model.fit()\n",
    "\n",
    "print(results.summary())"
   ]
  },
  {
   "cell_type": "markdown",
   "id": "c59c294e",
   "metadata": {},
   "source": [
    "The coefficient of south region is not very significant (p > 0.05) which means that we fail to reject the null hypothesis, indicating that there is no statistical significance on the price if the patients live in the south region \n",
    "\n",
    "The coefficient of midwest region is not very significant (p > 0.05) which means that we fail to reject the null hypothesis, indicating that there is no statistical significance on the price if the patients live in the midwest region \n",
    "\n",
    "The coefficient of West region is very significant (p < 0.05) which means that we can reject the null hypothesis, indicating that there is a statistical significance on the price if the patients live in the west region\n"
   ]
  },
  {
   "cell_type": "code",
   "execution_count": null,
   "id": "380d3891-bea4-4e4e-a401-0cffaf024e44",
   "metadata": {
    "tags": []
   },
   "outputs": [],
   "source": [
    "\n",
    "X = diabetes_train[[ 'Asian', 'Black', 'Hispanic',\n",
    "       'North_American_Native',  'White']] # took out unknown_race and native american\n",
    "X = sm.add_constant(X)\n",
    "\n",
    "y = diabetes_train['TotalCost_Y_Actual']\n",
    "\n",
    "model = sm.OLS(y, X)\n",
    "results = model.fit()\n",
    "\n",
    "print(results.summary())"
   ]
  },
  {
   "cell_type": "markdown",
   "id": "267e916d",
   "metadata": {},
   "source": [
    "The coefficient of Asian population is not very significant (p > 0.05) which means that we fail to reject the null hypothesis, indicating that there is no statistical significance between the asian population and the price \n",
    "\n",
    "The coefficient of Black population is very significant (p < 0.05) which means that we can reject the null hypothesis, indicating that there is a statistical significance between the black population and the price \n",
    "\n",
    "The coefficient of Hispanic population is not very significant (p > 0.05) which means that we fail to reject the null hypothesis, indicating that there is no statistical significance between the Hispanic population and the price \n",
    "\n",
    "The coefficient of North American Native population is very significant (p < 0.05) which means that we can reject the null hypothesis, indicating that there is a statistical significance between the North American Native population and the price \n",
    "\n",
    "The coefficient of White population is very significant (p < 0.05) which means that we can reject the null hypothesis, indicating that there is a statistical significance between the White population and the price \n"
   ]
  },
  {
   "cell_type": "code",
   "execution_count": null,
   "id": "67f773c1-b87b-4503-ac7e-f5e668bed481",
   "metadata": {},
   "outputs": [],
   "source": [
    "\n",
    "X = diabetes_train[['Avg_ADI']]\n",
    "    \n",
    "X = sm.add_constant(X)\n",
    "\n",
    "y = diabetes_train['TotalCost_Y_Actual']\n",
    "\n",
    "model = sm.OLS(y, X)\n",
    "results = model.fit()\n",
    "\n",
    "print(results.summary())"
   ]
  },
  {
   "cell_type": "markdown",
   "id": "d2d34942",
   "metadata": {},
   "source": [
    "The coefficient of deprivation index is not very significant (p > 0.05) which means that we fail to reject the null hypothesis, indicating that there is no statistical significance between the deprivation index and the price "
   ]
  },
  {
   "cell_type": "code",
   "execution_count": null,
   "id": "a384b306",
   "metadata": {},
   "outputs": [],
   "source": [
    "#t-test for significance of different types of treatments on prices\n",
    "input_columns = ['#_Rehabilitation_Hospital',\n",
    "        '#_Readmissions', '#_Labs', '#_Imaging', '#_Dialysis', \n",
    "         '#_DME', 'dapagliflozin','exenatide', 'glimepiride', 'glyburide_and_metformin_hydrochloride',\n",
    "       'insulin', 'metformin_hydrochloride', 'pioglitazone',\n",
    "       'sitagliptin_and_metformin_hydrochloride','ER_Admissions']\n",
    "X = diabetes_train[input_columns]\n",
    "y = diabetes_train[['TotalCost_Y_Actual']]\n",
    "\n",
    "X = sm.add_constant(diabetes_train[input_columns])\n",
    "model = sm.OLS(y, X)\n",
    "results = model.fit()\n",
    "summary = results.summary()\n",
    "\n",
    "table = summary.tables[1]\n",
    "print(table)\n"
   ]
  },
  {
   "cell_type": "markdown",
   "id": "0f05be8d",
   "metadata": {},
   "source": [
    "The coefficient of number of ER admissions is very significant (p < 0.05) which means that we can reject the null hypothesis, there is no evidence that it is not significant.\n",
    "\n",
    "The coefficient of number of labs is very significant (p < 0.05) which means that we can reject the null hypothesis, there is no evidence that it is not significant. \n",
    "\n",
    "The coefficient of number of imaging is very significant (p < 0.05) which means that we can reject the null hypothesis, there is no evidence that it is not significant.\n",
    "\n",
    "The coefficient of dialysis is very significant (p < 0.05) which means that we can reject the null hypothesis, there is no evidence that it is not significant.\n",
    "\n",
    "The coefficient of DME is very significant (p < 0.05) which means that we can reject the null hypothesis, there is no evidence that it is not significant. \n",
    "\n",
    "The coefficient of glimepiride  is very significant (p < 0.05) which means that we can reject the null hypothesis,there is no evidence that it is not significant.\n",
    "\n",
    "The coefficient of sitagliptin_and_metformin_hydrochloride is very significant (p < 0.05) which means that we can reject the null hypothesis, there is no evidence that it is not significant. \n",
    "\n",
    "The coefficient of insulin is very significant (p < 0.05) which means that we can reject the null hypothesis, there is no evidence that it is not significant.\n",
    "\n",
    "The coefficient of metformin_hydrochloride is very significant (p < 0.05) which means that we can reject the null hypothesis, there is no evidence that it is not significant. \n"
   ]
  }
 ],
 "metadata": {
  "kernelspec": {
   "display_name": "Python 3 (ipykernel)",
   "language": "python",
   "name": "python3"
  },
  "language_info": {
   "codemirror_mode": {
    "name": "ipython",
    "version": 3
   },
   "file_extension": ".py",
   "mimetype": "text/x-python",
   "name": "python",
   "nbconvert_exporter": "python",
   "pygments_lexer": "ipython3",
   "version": "3.11.4"
  }
 },
 "nbformat": 4,
 "nbformat_minor": 5
}

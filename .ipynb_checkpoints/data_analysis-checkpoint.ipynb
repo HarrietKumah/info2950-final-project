{
 "cells": [
  {
   "cell_type": "code",
   "execution_count": 2,
   "id": "6e41999a",
   "metadata": {},
   "outputs": [],
   "source": [
    "import numpy as np\n",
    "import pandas as pd\n",
    "import matplotlib.pyplot as plt\n",
    "import seaborn as sns\n",
    "import datetime\n",
    "from sklearn.linear_model import LinearRegression, LogisticRegression\n",
    "import duckdb\n"
   ]
  },
  {
   "cell_type": "code",
   "execution_count": 5,
   "id": "6ccd6132",
   "metadata": {},
   "outputs": [
    {
     "name": "stdout",
     "output_type": "stream",
     "text": [
      "wunmi\n"
     ]
    }
   ],
   "source": [
    "attributes_df = pd.read_csv(\"Attribute_Description.csv\")\n",
    "medication_df = pd.read_csv(\"Medication_Data_Kaggle_V1.csv\")\n",
    "socio_eco_df = pd.read_csv(\"Socio_Economics_Data_Kaggle_V1.csv\")\n",
    "patient_data_training_df = pd.read_csv(\"Patient_Data_Training_Kaggle_V1.csv\")\n",
    "print('wunmi')"
   ]
  }
 ],
 "metadata": {
  "kernelspec": {
   "display_name": "Python 3 (ipykernel)",
   "language": "python",
   "name": "python3"
  },
  "language_info": {
   "codemirror_mode": {
    "name": "ipython",
    "version": 3
   },
   "file_extension": ".py",
   "mimetype": "text/x-python",
   "name": "python",
   "nbconvert_exporter": "python",
   "pygments_lexer": "ipython3",
   "version": "3.11.4"
  }
 },
 "nbformat": 4,
 "nbformat_minor": 5
}
